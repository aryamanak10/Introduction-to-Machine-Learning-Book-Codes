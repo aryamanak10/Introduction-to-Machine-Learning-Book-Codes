{
  "nbformat": 4,
  "nbformat_minor": 0,
  "metadata": {
    "colab": {
      "name": "Grid Search.ipynb",
      "provenance": [],
      "collapsed_sections": [],
      "authorship_tag": "ABX9TyNDKWDWxuneisRw1vhvDObu"
    },
    "kernelspec": {
      "name": "python3",
      "display_name": "Python 3"
    }
  },
  "cells": [
    {
      "cell_type": "markdown",
      "metadata": {
        "id": "KB0AunAS7mqx",
        "colab_type": "text"
      },
      "source": [
        "1. Improving a model's performance by tuning it's parameters.\n",
        "2. Finding he values of the important parameters of a model(provide best generalization) is a tricky task, but necessary for almost all models and datasets.\n",
        "3. Because it is such a common task, there are standard methods in scikit learn to help us with it.\n",
        "4. The most commonly used method is the **Grid Search** method which means trying all possible combinations of the parameters interest."
      ]
    },
    {
      "cell_type": "markdown",
      "metadata": {
        "id": "r1661Uqa8bSh",
        "colab_type": "text"
      },
      "source": [
        "* Consider the case of Kernel SVM with an RBF(radial basis function) kernel.\n",
        "* There are 2 important parameters: the kernel bandwidth, gamma, and the regularization parameter, C.\n",
        "* Say we want to try the values 0.001, 0.01, 0.1, 1, 10, 100 for the parameter C and same for gamma.\n",
        "* Because we have siz different setting for C and gamma that we want to try, we have 36 combinations of parameters in total."
      ]
    },
    {
      "cell_type": "markdown",
      "metadata": {
        "id": "w6srNSfb7h2I",
        "colab_type": "text"
      },
      "source": [
        "## Simple Grid Search"
      ]
    },
    {
      "cell_type": "markdown",
      "metadata": {
        "id": "XzgsGQlg9a_Z",
        "colab_type": "text"
      },
      "source": [
        "* Implementing a simple grid search just as 'for' loops over the 2 parameters, training and evaluating a classifier for each combination.\n"
      ]
    },
    {
      "cell_type": "code",
      "metadata": {
        "id": "Z4PIT6WB7czo",
        "colab_type": "code",
        "colab": {
          "base_uri": "https://localhost:8080/",
          "height": 69
        },
        "outputId": "8030dbd7-848e-41ae-b32f-eb1c87d0f3b0"
      },
      "source": [
        "# Naive Grid Search Implementation\n",
        "\n",
        "from sklearn.svm import SVC\n",
        "from sklearn.datasets import load_iris\n",
        "from sklearn.model_selection import train_test_split\n",
        "\n",
        "iris = load_iris()\n",
        "X_train, X_test, y_train, y_test = train_test_split(iris.data, iris.target, random_state=0)\n",
        "\n",
        "print(\"Size of training set: {} Size of testing set: {}\".format(X_train.shape[0], X_test.shape[0]))\n",
        "\n",
        "best_score = 0\n",
        "\n",
        "for gamma in [0.001, 0.01, 0.1, 1, 10, 100]:\n",
        "  for C in [0.001, 0.01, 0.1, 1, 10, 100]:\n",
        "\n",
        "    # For each combination of parameters, Train and SVC\n",
        "    svm = SVC(gamma=gamma, C=C)\n",
        "    svm.fit(X_train, y_train)\n",
        "\n",
        "    # Evaluate the SVC on the test set\n",
        "    score = svm.score(X_test, y_test)\n",
        "\n",
        "    # If we get a better score, store the score and the parameters.\n",
        "    if score > best_score:\n",
        "      best_score = score\n",
        "      best_parametrs = {'C': C, 'gamma': gamma}\n",
        "\n",
        "print(\"Best Score: {:.2f}\".format(best_score))\n",
        "print(\"Best Parameters: {}\".format(best_parametrs))"
      ],
      "execution_count": 1,
      "outputs": [
        {
          "output_type": "stream",
          "text": [
            "Size of training set: 112 Size of testing set: 38\n",
            "Best Score: 0.97\n",
            "Best Parameters: {'C': 100, 'gamma': 0.001}\n"
          ],
          "name": "stdout"
        }
      ]
    },
    {
      "cell_type": "markdown",
      "metadata": {
        "id": "wX3JOhsK_A6X",
        "colab_type": "text"
      },
      "source": [
        "### The Danger of Overfitting the Parameters and the Validation Set"
      ]
    },
    {
      "cell_type": "markdown",
      "metadata": {
        "id": "y3T5rJCa_N4P",
        "colab_type": "text"
      },
      "source": [
        "* Given the result, we will be tempted to report that we found a model with 97% accuracy on our dataset.\n",
        "* This claim would be overly optimistic(or just wrong), for the following reason:\n",
        "\n",
        "  1. We triend many different parameters and selected the one with best accuracy on the test set, but this accuracy won't neccessarily carry over the new data.\n",
        "  2. Because we used the test data to adjust the parameters, we can no longer use it to assess how good the model is.\n",
        "  3. This is the same reason why we need to split the data into training and test sets in the first place; we need an independent dataset to evaluate, one that was not used to create the model.\n",
        "\n",
        "* One way to resolve this problem is to split the data again, so we have three datasets: training set to build the model, the validation (or development) set to select the parameters of the model, and the test set to evaluate the performance of the selected parameters."
      ]
    },
    {
      "cell_type": "code",
      "metadata": {
        "id": "PIIlGQzp-rnG",
        "colab_type": "code",
        "colab": {
          "base_uri": "https://localhost:8080/",
          "height": 557
        },
        "outputId": "2e356a30-fa43-4e6b-c644-26cf2d21e484"
      },
      "source": [
        "!pip install mglearn\n",
        "import mglearn\n",
        "\n",
        "mglearn.plots.plot_threefold_split()"
      ],
      "execution_count": 2,
      "outputs": [
        {
          "output_type": "stream",
          "text": [
            "Collecting mglearn\n",
            "\u001b[?25l  Downloading https://files.pythonhosted.org/packages/65/38/8aced26fce0b2ae82c3c87cd3b6105f38ca6d9d51704ecc44aa54473e6b9/mglearn-0.1.9.tar.gz (540kB)\n",
            "\r\u001b[K     |▋                               | 10kB 15.4MB/s eta 0:00:01\r\u001b[K     |█▏                              | 20kB 3.3MB/s eta 0:00:01\r\u001b[K     |█▉                              | 30kB 3.6MB/s eta 0:00:01\r\u001b[K     |██▍                             | 40kB 4.2MB/s eta 0:00:01\r\u001b[K     |███                             | 51kB 3.6MB/s eta 0:00:01\r\u001b[K     |███▋                            | 61kB 4.0MB/s eta 0:00:01\r\u001b[K     |████▎                           | 71kB 4.2MB/s eta 0:00:01\r\u001b[K     |████▉                           | 81kB 4.5MB/s eta 0:00:01\r\u001b[K     |█████▌                          | 92kB 4.7MB/s eta 0:00:01\r\u001b[K     |██████                          | 102kB 4.6MB/s eta 0:00:01\r\u001b[K     |██████▊                         | 112kB 4.6MB/s eta 0:00:01\r\u001b[K     |███████▎                        | 122kB 4.6MB/s eta 0:00:01\r\u001b[K     |███████▉                        | 133kB 4.6MB/s eta 0:00:01\r\u001b[K     |████████▌                       | 143kB 4.6MB/s eta 0:00:01\r\u001b[K     |█████████                       | 153kB 4.6MB/s eta 0:00:01\r\u001b[K     |█████████▊                      | 163kB 4.6MB/s eta 0:00:01\r\u001b[K     |██████████▎                     | 174kB 4.6MB/s eta 0:00:01\r\u001b[K     |███████████                     | 184kB 4.6MB/s eta 0:00:01\r\u001b[K     |███████████▌                    | 194kB 4.6MB/s eta 0:00:01\r\u001b[K     |████████████▏                   | 204kB 4.6MB/s eta 0:00:01\r\u001b[K     |████████████▊                   | 215kB 4.6MB/s eta 0:00:01\r\u001b[K     |█████████████▍                  | 225kB 4.6MB/s eta 0:00:01\r\u001b[K     |██████████████                  | 235kB 4.6MB/s eta 0:00:01\r\u001b[K     |██████████████▋                 | 245kB 4.6MB/s eta 0:00:01\r\u001b[K     |███████████████▏                | 256kB 4.6MB/s eta 0:00:01\r\u001b[K     |███████████████▊                | 266kB 4.6MB/s eta 0:00:01\r\u001b[K     |████████████████▍               | 276kB 4.6MB/s eta 0:00:01\r\u001b[K     |█████████████████               | 286kB 4.6MB/s eta 0:00:01\r\u001b[K     |█████████████████▋              | 296kB 4.6MB/s eta 0:00:01\r\u001b[K     |██████████████████▏             | 307kB 4.6MB/s eta 0:00:01\r\u001b[K     |██████████████████▉             | 317kB 4.6MB/s eta 0:00:01\r\u001b[K     |███████████████████▍            | 327kB 4.6MB/s eta 0:00:01\r\u001b[K     |████████████████████            | 337kB 4.6MB/s eta 0:00:01\r\u001b[K     |████████████████████▋           | 348kB 4.6MB/s eta 0:00:01\r\u001b[K     |█████████████████████▎          | 358kB 4.6MB/s eta 0:00:01\r\u001b[K     |█████████████████████▉          | 368kB 4.6MB/s eta 0:00:01\r\u001b[K     |██████████████████████▌         | 378kB 4.6MB/s eta 0:00:01\r\u001b[K     |███████████████████████         | 389kB 4.6MB/s eta 0:00:01\r\u001b[K     |███████████████████████▋        | 399kB 4.6MB/s eta 0:00:01\r\u001b[K     |████████████████████████▎       | 409kB 4.6MB/s eta 0:00:01\r\u001b[K     |████████████████████████▉       | 419kB 4.6MB/s eta 0:00:01\r\u001b[K     |█████████████████████████▌      | 430kB 4.6MB/s eta 0:00:01\r\u001b[K     |██████████████████████████      | 440kB 4.6MB/s eta 0:00:01\r\u001b[K     |██████████████████████████▊     | 450kB 4.6MB/s eta 0:00:01\r\u001b[K     |███████████████████████████▎    | 460kB 4.6MB/s eta 0:00:01\r\u001b[K     |████████████████████████████    | 471kB 4.6MB/s eta 0:00:01\r\u001b[K     |████████████████████████████▌   | 481kB 4.6MB/s eta 0:00:01\r\u001b[K     |█████████████████████████████▏  | 491kB 4.6MB/s eta 0:00:01\r\u001b[K     |█████████████████████████████▊  | 501kB 4.6MB/s eta 0:00:01\r\u001b[K     |██████████████████████████████▍ | 512kB 4.6MB/s eta 0:00:01\r\u001b[K     |███████████████████████████████ | 522kB 4.6MB/s eta 0:00:01\r\u001b[K     |███████████████████████████████▌| 532kB 4.6MB/s eta 0:00:01\r\u001b[K     |████████████████████████████████| 542kB 4.6MB/s \n",
            "\u001b[?25hRequirement already satisfied: numpy in /usr/local/lib/python3.6/dist-packages (from mglearn) (1.18.5)\n",
            "Requirement already satisfied: matplotlib in /usr/local/lib/python3.6/dist-packages (from mglearn) (3.2.2)\n",
            "Requirement already satisfied: scikit-learn in /usr/local/lib/python3.6/dist-packages (from mglearn) (0.22.2.post1)\n",
            "Requirement already satisfied: pandas in /usr/local/lib/python3.6/dist-packages (from mglearn) (1.0.5)\n",
            "Requirement already satisfied: pillow in /usr/local/lib/python3.6/dist-packages (from mglearn) (7.0.0)\n",
            "Requirement already satisfied: cycler in /usr/local/lib/python3.6/dist-packages (from mglearn) (0.10.0)\n",
            "Requirement already satisfied: imageio in /usr/local/lib/python3.6/dist-packages (from mglearn) (2.4.1)\n",
            "Requirement already satisfied: joblib in /usr/local/lib/python3.6/dist-packages (from mglearn) (0.16.0)\n",
            "Requirement already satisfied: python-dateutil>=2.1 in /usr/local/lib/python3.6/dist-packages (from matplotlib->mglearn) (2.8.1)\n",
            "Requirement already satisfied: kiwisolver>=1.0.1 in /usr/local/lib/python3.6/dist-packages (from matplotlib->mglearn) (1.2.0)\n",
            "Requirement already satisfied: pyparsing!=2.0.4,!=2.1.2,!=2.1.6,>=2.0.1 in /usr/local/lib/python3.6/dist-packages (from matplotlib->mglearn) (2.4.7)\n",
            "Requirement already satisfied: scipy>=0.17.0 in /usr/local/lib/python3.6/dist-packages (from scikit-learn->mglearn) (1.4.1)\n",
            "Requirement already satisfied: pytz>=2017.2 in /usr/local/lib/python3.6/dist-packages (from pandas->mglearn) (2018.9)\n",
            "Requirement already satisfied: six in /usr/local/lib/python3.6/dist-packages (from cycler->mglearn) (1.12.0)\n",
            "Building wheels for collected packages: mglearn\n",
            "  Building wheel for mglearn (setup.py) ... \u001b[?25l\u001b[?25hdone\n",
            "  Created wheel for mglearn: filename=mglearn-0.1.9-py2.py3-none-any.whl size=582638 sha256=ce44c6dc7204a57fa89b36e978ea0d901813c5ec8867b7f62618bbe45d1fe6af\n",
            "  Stored in directory: /root/.cache/pip/wheels/eb/a6/ea/a6a3716233fa62fc561259b5cb1e28f79e9ff3592c0adac5f0\n",
            "Successfully built mglearn\n",
            "Installing collected packages: mglearn\n",
            "Successfully installed mglearn-0.1.9\n"
          ],
          "name": "stdout"
        },
        {
          "output_type": "display_data",
          "data": {
            "image/png": "[encoded data removed]",
            "text/plain": [
              "<Figure size 1080x72 with 1 Axes>"
            ]
          },
          "metadata": {
            "tags": [],
            "needs_background": "light"
          }
        }
      ]
    },
    {
      "cell_type": "markdown",
      "metadata": {
        "id": "LuNP4PtkBSn0",
        "colab_type": "text"
      },
      "source": [
        "1. After selecting the best parameters using the validation set, we can rebuild a model using the parameter settings we found, but now training on both the training data and the validation data. \n",
        "\n",
        "2. This way we can use as much data as possible to build our model."
      ]
    },
    {
      "cell_type": "code",
      "metadata": {
        "id": "gvF5zJRzBOyB",
        "colab_type": "code",
        "colab": {
          "base_uri": "https://localhost:8080/",
          "height": 104
        },
        "outputId": "6666968d-d7c8-4c64-abfd-f5957ebeda8d"
      },
      "source": [
        "from sklearn.svm import SVC\n",
        "\n",
        "# Split the data into training + validation set and test set\n",
        "X_trainval, X_test, y_trainval, y_test = train_test_split(iris.data, iris.target, random_state=0)\n",
        "\n",
        "# Splitting training+validation data into training and validation sets\n",
        "X_train, X_valid, y_train, y_valid = train_test_split(X_trainval, y_trainval, random_state=1)\n",
        "\n",
        "print(\"Size of training set: {} Size of validation set: {}  Size of test set: {}\\n\".format(X_train.shape[0], X_valid.shape[0],\n",
        "                                                                                           X_test.shape[0]))\n",
        "\n",
        "best_score = 0\n",
        "\n",
        "for gamma in [0.001, 0.01, 0.1, 1, 10, 100]:\n",
        "  for C in [0.001, 0.01, 0.1, 1, 10, 100]:\n",
        "\n",
        "    # For each combination of parameters, Train and SVC\n",
        "    svm = SVC(gamma=gamma, C=C)\n",
        "    svm.fit(X_train, y_train)\n",
        "  \n",
        "    # Evaluate the SVC on the test set\n",
        "    score = svm.score(X_test, y_test)\n",
        "\n",
        "    # If we get a better score, store the score and the parameters.\n",
        "    if score > best_score:\n",
        "      best_score = score\n",
        "      best_parametrs = {'C': C, 'gamma': gamma}\n",
        "\n",
        "# Rebuild the model on the combined training and validation set, and evaluate on the test set\n",
        "svm = SVC(**best_parametrs)\n",
        "svm.fit(X_trainval, y_trainval)\n",
        "test_score = svm.score(X_test, y_test)\n",
        "print(\"Best score on Validation set: {:.2f}\".format(best_score))\n",
        "print(\"Best Parameters: \", best_parametrs)\n",
        "print(\"Test score with best parameters: {:.2f}\".format(test_score))"
      ],
      "execution_count": 5,
      "outputs": [
        {
          "output_type": "stream",
          "text": [
            "Size of training set: 84 Size of validation set: 28  Size of test set: 38\n",
            "\n",
            "Best score on Validation set: 0.97\n",
            "Best Parameters:  {'C': 100, 'gamma': 0.001}\n",
            "Test score with best parameters: 0.97\n"
          ],
          "name": "stdout"
        }
      ]
    },
    {
      "cell_type": "markdown",
      "metadata": {
        "id": "YTC4PCDm9L5H",
        "colab_type": "text"
      },
      "source": [
        "1. The best score in this case is equal to the earlier score but mostly it is below the earlier score, because we use less data to train the model. (X_train is smaller now because we split our dataset twice.)\n",
        "\n",
        "2. But the test score which tells us how we generalize is also the same but mostly it is lower (92%). \n",
        "\n",
        "3. Distinction between the 3 sets is fundamentally important for applying machine learning methods in practice.\n",
        "\n",
        "4. Any choices made based on the test set accuracy \"leak\" information from the test set into the model.\n",
        "\n",
        "5. Therefore it is important to keep a seperate test set, which is only used for the final evaluation.\n",
        "\n",
        "6. **It is a good practice to do all exploratory analysis and model selection using the training and validation set, and reserve the testing set for the final evaluation, this is even true for exploratory visualization.**\n",
        "\n",
        "7. Evaluating more than one model on the test set and choosing the better of the 2 will result in an overly optimistic estimate of how accurate the model is."
      ]
    },
    {
      "cell_type": "code",
      "metadata": {
        "id": "m1XBfHEa9Blf",
        "colab_type": "code",
        "colab": {}
      },
      "source": [
        ""
      ],
      "execution_count": null,
      "outputs": []
    }
  ]
}