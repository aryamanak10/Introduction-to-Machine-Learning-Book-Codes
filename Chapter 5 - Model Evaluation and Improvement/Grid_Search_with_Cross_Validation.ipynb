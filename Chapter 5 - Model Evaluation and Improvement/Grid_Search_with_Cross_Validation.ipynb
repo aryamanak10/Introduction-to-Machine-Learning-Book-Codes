{
  "nbformat": 4,
  "nbformat_minor": 0,
  "metadata": {
    "colab": {
      "name": "Grid Search with Cross-Validation.ipynb",
      "provenance": [],
      "collapsed_sections": [],
      "authorship_tag": "ABX9TyOOaLGgdoF7v81Nf6yaohsB"
    },
    "kernelspec": {
      "name": "python3",
      "display_name": "Python 3"
    }
  },
  "cells": [
    {
      "cell_type": "markdown",
      "metadata": {
        "id": "aq3VESMsA0hz",
        "colab_type": "text"
      },
      "source": [
        "## Grid Search with Cross-Validation"
      ]
    },
    {
      "cell_type": "markdown",
      "metadata": {
        "id": "fUThk1G4A6ME",
        "colab_type": "text"
      },
      "source": [
        "1. The method of splitting the dataset into 3 sets (training, validation, testing) set is workable, and relatively commonly used, it is quite sensitive to how exactly the data is split.\n",
        "\n",
        "2. From the above method we saw that the grid search selection 'C': 10, 'gamma': 0.001 as the best parameters, while the output of the code in the in the previos section selection 'C': 100, 'gamma': 0.001 as the best parameters.\n",
        "\n",
        "3. For a better estimate of the generalization performance, instead of using a single split into a training and validation set, we can use CV to evaluate the performance of each parameter combination."
      ]
    },
    {
      "cell_type": "code",
      "metadata": {
        "id": "90MQoO-nAvxb",
        "colab_type": "code",
        "colab": {
          "base_uri": "https://localhost:8080/",
          "height": 86
        },
        "outputId": "1c5713c7-73c5-4f74-f071-467ff73b908e"
      },
      "source": [
        "from sklearn.svm import SVC\n",
        "from sklearn.model_selection import cross_val_score\n",
        "from sklearn.datasets import load_iris\n",
        "from sklearn.model_selection import train_test_split\n",
        "import numpy as np\n",
        "\n",
        "iris = load_iris()\n",
        "\n",
        "# Split the data into training + validation set and test set\n",
        "X_trainval, X_test, y_trainval, y_test = train_test_split(iris.data, iris.target, random_state=0)\n",
        "\n",
        "# Splitting training+validation data into training and validation sets\n",
        "X_train, X_valid, y_train, y_valid = train_test_split(X_trainval, y_trainval, random_state=1)\n",
        "\n",
        "best_score = 0\n",
        "\n",
        "for gamma in [0.001, 0.01, 0.1, 1, 10, 100]:\n",
        "  for C in [0.001, 0.01, 0.1, 1, 10, 100]:\n",
        "\n",
        "    # For each combination of parameters, Train and SVC\n",
        "    svm = SVC(gamma=gamma, C=C)\n",
        "    svm.fit(X_train, y_train)\n",
        "\n",
        "    # Peform cross validation\n",
        "    scores = cross_val_score(svm, X_trainval, y_trainval, cv=5)\n",
        "\n",
        "    # Compute mean cross-validation accuracy\n",
        "    score = np.mean(scores)\n",
        "\n",
        "    # If we got a better score, store the score and parameters\n",
        "    if score > best_score:\n",
        "      best_score = score\n",
        "      best_parametrs = {'C': C, 'gamma': gamma}\n",
        "\n",
        "# Rebuild the model on the combined training and validation set, and evaluate on the test set\n",
        "svm = SVC(**best_parametrs)\n",
        "svm.fit(X_trainval, y_trainval)"
      ],
      "execution_count": 1,
      "outputs": [
        {
          "output_type": "execute_result",
          "data": {
            "text/plain": [
              "SVC(C=10, break_ties=False, cache_size=200, class_weight=None, coef0=0.0,\n",
              "    decision_function_shape='ovr', degree=3, gamma=0.1, kernel='rbf',\n",
              "    max_iter=-1, probability=False, random_state=None, shrinking=True,\n",
              "    tol=0.001, verbose=False)"
            ]
          },
          "metadata": {
            "tags": []
          },
          "execution_count": 1
        }
      ]
    },
    {
      "cell_type": "markdown",
      "metadata": {
        "id": "rcOCqYe2DrQM",
        "colab_type": "text"
      },
      "source": [
        "1. To evaluate the accuracy of the SVM using a particular setting of C and gamma using 5 - fold cross validation, we need to train 36*5 = 180 models.\n",
        "\n",
        "2. Main downside of the use of cross validation is the time it takes to train all these models."
      ]
    },
    {
      "cell_type": "code",
      "metadata": {
        "id": "Zupa1asNDec1",
        "colab_type": "code",
        "colab": {
          "base_uri": "https://localhost:8080/",
          "height": 769
        },
        "outputId": "22f3599f-470a-46c1-dac2-d743f68cdb39"
      },
      "source": [
        "# The Following visualization illustrates how the best parameter setting is selected in the preceding code:\n",
        "\n",
        "!pip install mglearn\n",
        "import mglearn\n",
        "\n",
        "mglearn.plots.plot_cross_val_selection()"
      ],
      "execution_count": 2,
      "outputs": [
        {
          "output_type": "stream",
          "text": [
            "Collecting mglearn\n",
            "\u001b[?25l  Downloading https://files.pythonhosted.org/packages/65/38/8aced26fce0b2ae82c3c87cd3b6105f38ca6d9d51704ecc44aa54473e6b9/mglearn-0.1.9.tar.gz (540kB)\n",
            "\r\u001b[K     |▋                               | 10kB 17.2MB/s eta 0:00:01\r\u001b[K     |█▏                              | 20kB 1.7MB/s eta 0:00:01\r\u001b[K     |█▉                              | 30kB 2.2MB/s eta 0:00:01\r\u001b[K     |██▍                             | 40kB 2.5MB/s eta 0:00:01\r\u001b[K     |███                             | 51kB 2.0MB/s eta 0:00:01\r\u001b[K     |███▋                            | 61kB 2.2MB/s eta 0:00:01\r\u001b[K     |████▎                           | 71kB 2.5MB/s eta 0:00:01\r\u001b[K     |████▉                           | 81kB 2.7MB/s eta 0:00:01\r\u001b[K     |█████▌                          | 92kB 2.9MB/s eta 0:00:01\r\u001b[K     |██████                          | 102kB 2.8MB/s eta 0:00:01\r\u001b[K     |██████▊                         | 112kB 2.8MB/s eta 0:00:01\r\u001b[K     |███████▎                        | 122kB 2.8MB/s eta 0:00:01\r\u001b[K     |███████▉                        | 133kB 2.8MB/s eta 0:00:01\r\u001b[K     |████████▌                       | 143kB 2.8MB/s eta 0:00:01\r\u001b[K     |█████████                       | 153kB 2.8MB/s eta 0:00:01\r\u001b[K     |█████████▊                      | 163kB 2.8MB/s eta 0:00:01\r\u001b[K     |██████████▎                     | 174kB 2.8MB/s eta 0:00:01\r\u001b[K     |███████████                     | 184kB 2.8MB/s eta 0:00:01\r\u001b[K     |███████████▌                    | 194kB 2.8MB/s eta 0:00:01\r\u001b[K     |████████████▏                   | 204kB 2.8MB/s eta 0:00:01\r\u001b[K     |████████████▊                   | 215kB 2.8MB/s eta 0:00:01\r\u001b[K     |█████████████▍                  | 225kB 2.8MB/s eta 0:00:01\r\u001b[K     |██████████████                  | 235kB 2.8MB/s eta 0:00:01\r\u001b[K     |██████████████▋                 | 245kB 2.8MB/s eta 0:00:01\r\u001b[K     |███████████████▏                | 256kB 2.8MB/s eta 0:00:01\r\u001b[K     |███████████████▊                | 266kB 2.8MB/s eta 0:00:01\r\u001b[K     |████████████████▍               | 276kB 2.8MB/s eta 0:00:01\r\u001b[K     |█████████████████               | 286kB 2.8MB/s eta 0:00:01\r\u001b[K     |█████████████████▋              | 296kB 2.8MB/s eta 0:00:01\r\u001b[K     |██████████████████▏             | 307kB 2.8MB/s eta 0:00:01\r\u001b[K     |██████████████████▉             | 317kB 2.8MB/s eta 0:00:01\r\u001b[K     |███████████████████▍            | 327kB 2.8MB/s eta 0:00:01\r\u001b[K     |████████████████████            | 337kB 2.8MB/s eta 0:00:01\r\u001b[K     |████████████████████▋           | 348kB 2.8MB/s eta 0:00:01\r\u001b[K     |█████████████████████▎          | 358kB 2.8MB/s eta 0:00:01\r\u001b[K     |█████████████████████▉          | 368kB 2.8MB/s eta 0:00:01\r\u001b[K     |██████████████████████▌         | 378kB 2.8MB/s eta 0:00:01\r\u001b[K     |███████████████████████         | 389kB 2.8MB/s eta 0:00:01\r\u001b[K     |███████████████████████▋        | 399kB 2.8MB/s eta 0:00:01\r\u001b[K     |████████████████████████▎       | 409kB 2.8MB/s eta 0:00:01\r\u001b[K     |████████████████████████▉       | 419kB 2.8MB/s eta 0:00:01\r\u001b[K     |█████████████████████████▌      | 430kB 2.8MB/s eta 0:00:01\r\u001b[K     |██████████████████████████      | 440kB 2.8MB/s eta 0:00:01\r\u001b[K     |██████████████████████████▊     | 450kB 2.8MB/s eta 0:00:01\r\u001b[K     |███████████████████████████▎    | 460kB 2.8MB/s eta 0:00:01\r\u001b[K     |████████████████████████████    | 471kB 2.8MB/s eta 0:00:01\r\u001b[K     |████████████████████████████▌   | 481kB 2.8MB/s eta 0:00:01\r\u001b[K     |█████████████████████████████▏  | 491kB 2.8MB/s eta 0:00:01\r\u001b[K     |█████████████████████████████▊  | 501kB 2.8MB/s eta 0:00:01\r\u001b[K     |██████████████████████████████▍ | 512kB 2.8MB/s eta 0:00:01\r\u001b[K     |███████████████████████████████ | 522kB 2.8MB/s eta 0:00:01\r\u001b[K     |███████████████████████████████▌| 532kB 2.8MB/s eta 0:00:01\r\u001b[K     |████████████████████████████████| 542kB 2.8MB/s \n",
            "\u001b[?25hRequirement already satisfied: numpy in /usr/local/lib/python3.6/dist-packages (from mglearn) (1.18.5)\n",
            "Requirement already satisfied: matplotlib in /usr/local/lib/python3.6/dist-packages (from mglearn) (3.2.2)\n",
            "Requirement already satisfied: scikit-learn in /usr/local/lib/python3.6/dist-packages (from mglearn) (0.22.2.post1)\n",
            "Requirement already satisfied: pandas in /usr/local/lib/python3.6/dist-packages (from mglearn) (1.0.5)\n",
            "Requirement already satisfied: pillow in /usr/local/lib/python3.6/dist-packages (from mglearn) (7.0.0)\n",
            "Requirement already satisfied: cycler in /usr/local/lib/python3.6/dist-packages (from mglearn) (0.10.0)\n",
            "Requirement already satisfied: imageio in /usr/local/lib/python3.6/dist-packages (from mglearn) (2.4.1)\n",
            "Requirement already satisfied: joblib in /usr/local/lib/python3.6/dist-packages (from mglearn) (0.16.0)\n",
            "Requirement already satisfied: kiwisolver>=1.0.1 in /usr/local/lib/python3.6/dist-packages (from matplotlib->mglearn) (1.2.0)\n",
            "Requirement already satisfied: pyparsing!=2.0.4,!=2.1.2,!=2.1.6,>=2.0.1 in /usr/local/lib/python3.6/dist-packages (from matplotlib->mglearn) (2.4.7)\n",
            "Requirement already satisfied: python-dateutil>=2.1 in /usr/local/lib/python3.6/dist-packages (from matplotlib->mglearn) (2.8.1)\n",
            "Requirement already satisfied: scipy>=0.17.0 in /usr/local/lib/python3.6/dist-packages (from scikit-learn->mglearn) (1.4.1)\n",
            "Requirement already satisfied: pytz>=2017.2 in /usr/local/lib/python3.6/dist-packages (from pandas->mglearn) (2018.9)\n",
            "Requirement already satisfied: six in /usr/local/lib/python3.6/dist-packages (from cycler->mglearn) (1.15.0)\n",
            "Building wheels for collected packages: mglearn\n",
            "  Building wheel for mglearn (setup.py) ... \u001b[?25l\u001b[?25hdone\n",
            "  Created wheel for mglearn: filename=mglearn-0.1.9-py2.py3-none-any.whl size=582638 sha256=3f6884fe1c7e419522da203f43a00fa779affcfdba1ee481998131539e88e73c\n",
            "  Stored in directory: /root/.cache/pip/wheels/eb/a6/ea/a6a3716233fa62fc561259b5cb1e28f79e9ff3592c0adac5f0\n",
            "Successfully built mglearn\n",
            "Installing collected packages: mglearn\n",
            "Successfully installed mglearn-0.1.9\n"
          ],
          "name": "stdout"
        },
        {
          "output_type": "display_data",
          "data": {
            "image/png": "[encoded data removed]",
            "text/plain": [
              "<Figure size 720x216 with 1 Axes>"
            ]
          },
          "metadata": {
            "tags": [],
            "needs_background": "light"
          }
        }
      ]
    },
    {
      "cell_type": "markdown",
      "metadata": {
        "id": "L42lEnyywX5G",
        "colab_type": "text"
      },
      "source": [
        "1. For each parameter setting only a subset is shown, five accuracy values are computed, one for each split in the CV.\n",
        "\n",
        "2. Then the mean validation accuracy is computed for each parameter setting. Highest is chosen marked by the circle."
      ]
    },
    {
      "cell_type": "markdown",
      "metadata": {
        "id": "9KSss-aUwu3n",
        "colab_type": "text"
      },
      "source": [
        "**WARNING:** CV is a way to evaluate a given algorithm on a specific dataset. However it is often used in conjuction with parameter search methods like grid search. For this reason, many people use the term CV colloquially to refer the grid search with cross - validation."
      ]
    },
    {
      "cell_type": "code",
      "metadata": {
        "id": "S4vQuuy9E107",
        "colab_type": "code",
        "colab": {
          "base_uri": "https://localhost:8080/",
          "height": 440
        },
        "outputId": "60fb1c84-137b-4da0-f71b-2da912323115"
      },
      "source": [
        "# Overall Process of splitting the data, running the grid search, and evaluating the final parameters is shown below.\n",
        "\n",
        "mglearn.plots.plot_grid_search_overview()"
      ],
      "execution_count": 3,
      "outputs": [
        {
          "output_type": "display_data",
          "data": {
            "image/png": "[encoded data removed]",
            "text/plain": [
              "<Figure size 700x210 with 1 Axes>"
            ]
          },
          "metadata": {
            "tags": [],
            "needs_background": "light"
          }
        }
      ]
    },
    {
      "cell_type": "markdown",
      "metadata": {
        "id": "1HTD9c9GxrUO",
        "colab_type": "text"
      },
      "source": [
        "1. Because grid search with CV is such a commonly used method to adjust parameters, scikit learn provides the GridSearchCV class, which implements it in the form of an estimator.\n",
        "\n",
        "2. To use the GridSearchCV, you first need to specify the parameters you want to seach over using a dictionary.\n",
        "\n",
        "3. GridSearchCV will then perform all the necessary model fits.\n",
        "\n",
        "4. The keys of the dictionary are the names of the parameters we want to adjust (as given when constructing the model - in this case, 'C' and 'gamma'), and the values are the parameter settings we want to try out."
      ]
    },
    {
      "cell_type": "code",
      "metadata": {
        "id": "ck1Qy4A6ypJm",
        "colab_type": "code",
        "colab": {
          "base_uri": "https://localhost:8080/",
          "height": 52
        },
        "outputId": "6604a57c-04bd-457b-86ea-072b5630e7b2"
      },
      "source": [
        "param_grid = {'C': [0.001, 0.01, 0.1, 1, 10, 100],\n",
        "              'gamma': [0.001, 0.01, 0.1, 1, 10, 100]}\n",
        "\n",
        "print(\"Parameter Grid:\\n{}\".format(param_grid))"
      ],
      "execution_count": 4,
      "outputs": [
        {
          "output_type": "stream",
          "text": [
            "Parameter Grid:\n",
            "{'C': [0.001, 0.01, 0.1, 1, 10, 100], 'gamma': [0.001, 0.01, 0.1, 1, 10, 100]}\n"
          ],
          "name": "stdout"
        }
      ]
    },
    {
      "cell_type": "markdown",
      "metadata": {
        "id": "QHD8JAiQfFgd",
        "colab_type": "text"
      },
      "source": [
        "1. Now, we can instantiate the GridSearchCv class with the model (SVC), the parameter grid to search (param_grid) and the cross-validation strategy we want to use (say, five-fold startifies CV)"
      ]
    },
    {
      "cell_type": "code",
      "metadata": {
        "id": "hqbfFvfifaZq",
        "colab_type": "code",
        "colab": {}
      },
      "source": [
        "from sklearn.model_selection import GridSearchCV\n",
        "from sklearn.svm import SVC\n",
        "\n",
        "grid_search = GridSearchCV(SVC(), param_grid, cv=5)"
      ],
      "execution_count": 5,
      "outputs": []
    },
    {
      "cell_type": "markdown",
      "metadata": {
        "id": "Fc-5vwKNfrdY",
        "colab_type": "text"
      },
      "source": [
        "1. GridSearchCV will use CV in place of the split into the training and validation set that we used before.\n",
        "\n",
        "2. However, we still need to split the data into training and a test set, to avoid overfitting the parameters."
      ]
    },
    {
      "cell_type": "code",
      "metadata": {
        "id": "mxZUJv-yfqbx",
        "colab_type": "code",
        "colab": {}
      },
      "source": [
        "X_train, X_test, y_train, y_test = train_test_split(iris.data, iris.target, random_state=0)"
      ],
      "execution_count": 6,
      "outputs": []
    },
    {
      "cell_type": "markdown",
      "metadata": {
        "id": "bxzF4BMYgKK8",
        "colab_type": "text"
      },
      "source": [
        "1. The grid_search object that we created behaves like a classifier; we can call the standard methods fit, predict, and score on it. \n",
        "\n",
        "2. However, when wil call fit, it will run CV for each combination of parameters we specified in the param_grid"
      ]
    },
    {
      "cell_type": "code",
      "metadata": {
        "id": "-qvaSYoXgI40",
        "colab_type": "code",
        "colab": {
          "base_uri": "https://localhost:8080/",
          "height": 224
        },
        "outputId": "0bbc594f-851a-4183-af51-608a27942ce2"
      },
      "source": [
        "grid_search.fit(X_train, y_train)"
      ],
      "execution_count": 7,
      "outputs": [
        {
          "output_type": "execute_result",
          "data": {
            "text/plain": [
              "GridSearchCV(cv=5, error_score=nan,\n",
              "             estimator=SVC(C=1.0, break_ties=False, cache_size=200,\n",
              "                           class_weight=None, coef0=0.0,\n",
              "                           decision_function_shape='ovr', degree=3,\n",
              "                           gamma='scale', kernel='rbf', max_iter=-1,\n",
              "                           probability=False, random_state=None, shrinking=True,\n",
              "                           tol=0.001, verbose=False),\n",
              "             iid='deprecated', n_jobs=None,\n",
              "             param_grid={'C': [0.001, 0.01, 0.1, 1, 10, 100],\n",
              "                         'gamma': [0.001, 0.01, 0.1, 1, 10, 100]},\n",
              "             pre_dispatch='2*n_jobs', refit=True, return_train_score=False,\n",
              "             scoring=None, verbose=0)"
            ]
          },
          "metadata": {
            "tags": []
          },
          "execution_count": 7
        }
      ]
    },
    {
      "cell_type": "markdown",
      "metadata": {
        "id": "TKABAR3GgjMv",
        "colab_type": "text"
      },
      "source": [
        "1. Fitting the GridSearchCV object not only searched for the best parameters, but also automatically fits a new model on the whole training dataset with the parameters that yielded the best CV performance.\n",
        "\n",
        "2. It also provides a very convenient interface to access the retrained model using the predict and score methods. To evaluate how well the best found parameters generalize, we can call score on the test set:"
      ]
    },
    {
      "cell_type": "code",
      "metadata": {
        "id": "vYcOfsm5get3",
        "colab_type": "code",
        "colab": {
          "base_uri": "https://localhost:8080/",
          "height": 34
        },
        "outputId": "5fd77d47-18b8-4868-d4f8-65ff68120795"
      },
      "source": [
        "print(\"Test set score: {:.2f}\".format(grid_search.score(X_test, y_test)))"
      ],
      "execution_count": 8,
      "outputs": [
        {
          "output_type": "stream",
          "text": [
            "Test set score: 0.97\n"
          ],
          "name": "stdout"
        }
      ]
    },
    {
      "cell_type": "markdown",
      "metadata": {
        "id": "wlj54P1uhd02",
        "colab_type": "text"
      },
      "source": [
        "1. We actually found a model with 97% accuracy on the test set. The important thing is we **did not use the test set** to choose the parameters.\n",
        "\n",
        "2. The parameters that were found are scored in the best_params_ attribute, and the best cross-validation accuracy (mean accuracy over the different splits for this parameter splitting) is stored in best_score_:"
      ]
    },
    {
      "cell_type": "code",
      "metadata": {
        "id": "Dsj9ht79hQlI",
        "colab_type": "code",
        "colab": {
          "base_uri": "https://localhost:8080/",
          "height": 52
        },
        "outputId": "c65377ff-b530-4f70-d15e-26f81cc3bcbe"
      },
      "source": [
        "print(\"Best Parameters: {}\".format(grid_search.best_params_))\n",
        "print(\"Best cross-validation score: {:.2f}\".format(grid_search.best_score_))"
      ],
      "execution_count": 9,
      "outputs": [
        {
          "output_type": "stream",
          "text": [
            "Best Parameters: {'C': 10, 'gamma': 0.1}\n",
            "Best cross-validation score: 0.97\n"
          ],
          "name": "stdout"
        }
      ]
    },
    {
      "cell_type": "markdown",
      "metadata": {
        "id": "Rwuk9v-PiScx",
        "colab_type": "text"
      },
      "source": [
        "**WARNING:** Don't confuse best_score_ with the generalization performance of the model as computed by the score method on the test set."
      ]
    },
    {
      "cell_type": "code",
      "metadata": {
        "id": "EsLUlkboiPi8",
        "colab_type": "code",
        "colab": {}
      },
      "source": [
        "# Looking at the actual model that wad found - for example, to look at the co-efficients or feature importances. You can access the model\n",
        "# with the best parameters trained on the whole training set using the best_estimator_ attribute:"
      ],
      "execution_count": 10,
      "outputs": []
    },
    {
      "cell_type": "code",
      "metadata": {
        "id": "t7dUDfTci0_S",
        "colab_type": "code",
        "colab": {
          "base_uri": "https://localhost:8080/",
          "height": 104
        },
        "outputId": "8731011e-071f-48a7-895f-72ea366a5c80"
      },
      "source": [
        "print(\"Best estimator:\\n{}\".format(grid_search.best_estimator_))"
      ],
      "execution_count": 11,
      "outputs": [
        {
          "output_type": "stream",
          "text": [
            "Best estimator:\n",
            "SVC(C=10, break_ties=False, cache_size=200, class_weight=None, coef0=0.0,\n",
            "    decision_function_shape='ovr', degree=3, gamma=0.1, kernel='rbf',\n",
            "    max_iter=-1, probability=False, random_state=None, shrinking=True,\n",
            "    tol=0.001, verbose=False)\n"
          ],
          "name": "stdout"
        }
      ]
    },
    {
      "cell_type": "markdown",
      "metadata": {
        "id": "pdmGmmcYjIJD",
        "colab_type": "text"
      },
      "source": [
        "* Because grid_search already has the parameters like score_ and best_params_ it is not neccessary to use the best_estimator_function. "
      ]
    },
    {
      "cell_type": "markdown",
      "metadata": {
        "id": "-gz5JhFfvQUh",
        "colab_type": "text"
      },
      "source": [
        "### Analyzing the result of cross-validation"
      ]
    },
    {
      "cell_type": "markdown",
      "metadata": {
        "id": "3YDpY5GSvhda",
        "colab_type": "text"
      },
      "source": [
        "1. Often helpful to visualize the results of cross-validation, to understand how the model generalization depends on the parameters we are searching.\n",
        "\n",
        "2. Grid Searches are quite computationally expensive to run, often it is a good idea to start with a relatively coarse and small grid.\n",
        "\n",
        "3. Assess the results and expand our grid.\n",
        "\n",
        "4. The results of the grid search can be found in the cv_results_ attribute, which is a dictionary storing all aspects of the search. It contains a lot of details, adnd is best looked at after converting it to a pandas DataFrame:"
      ]
    },
    {
      "cell_type": "code",
      "metadata": {
        "id": "UtcLQh0pi7oY",
        "colab_type": "code",
        "colab": {
          "base_uri": "https://localhost:8080/",
          "height": 477
        },
        "outputId": "47d623c7-ee93-4b27-de0c-1088ec2b3379"
      },
      "source": [
        "import pandas as pd\n",
        "\n",
        "# Convert to a DataFrame\n",
        "results = pd.DataFrame(grid_search.cv_results_)\n",
        "\n",
        "# Show the first 5 rows\n",
        "display(results.head())"
      ],
      "execution_count": 12,
      "outputs": [
        {
          "output_type": "display_data",
          "data": {
            "text/html": [
              "<div>\n",
              "<style scoped>\n",
              "    .dataframe tbody tr th:only-of-type {\n",
              "        vertical-align: middle;\n",
              "    }\n",
              "\n",
              "    .dataframe tbody tr th {\n",
              "        vertical-align: top;\n",
              "    }\n",
              "\n",
              "    .dataframe thead th {\n",
              "        text-align: right;\n",
              "    }\n",
              "</style>\n",
              "<table border=\"1\" class=\"dataframe\">\n",
              "  <thead>\n",
              "    <tr style=\"text-align: right;\">\n",
              "      <th></th>\n",
              "      <th>mean_fit_time</th>\n",
              "      <th>std_fit_time</th>\n",
              "      <th>mean_score_time</th>\n",
              "      <th>std_score_time</th>\n",
              "      <th>param_C</th>\n",
              "      <th>param_gamma</th>\n",
              "      <th>params</th>\n",
              "      <th>split0_test_score</th>\n",
              "      <th>split1_test_score</th>\n",
              "      <th>split2_test_score</th>\n",
              "      <th>split3_test_score</th>\n",
              "      <th>split4_test_score</th>\n",
              "      <th>mean_test_score</th>\n",
              "      <th>std_test_score</th>\n",
              "      <th>rank_test_score</th>\n",
              "    </tr>\n",
              "  </thead>\n",
              "  <tbody>\n",
              "    <tr>\n",
              "      <th>0</th>\n",
              "      <td>0.001552</td>\n",
              "      <td>0.000160</td>\n",
              "      <td>0.000689</td>\n",
              "      <td>0.000054</td>\n",
              "      <td>0.001</td>\n",
              "      <td>0.001</td>\n",
              "      <td>{'C': 0.001, 'gamma': 0.001}</td>\n",
              "      <td>0.347826</td>\n",
              "      <td>0.347826</td>\n",
              "      <td>0.363636</td>\n",
              "      <td>0.363636</td>\n",
              "      <td>0.409091</td>\n",
              "      <td>0.366403</td>\n",
              "      <td>0.022485</td>\n",
              "      <td>22</td>\n",
              "    </tr>\n",
              "    <tr>\n",
              "      <th>1</th>\n",
              "      <td>0.001154</td>\n",
              "      <td>0.000301</td>\n",
              "      <td>0.000519</td>\n",
              "      <td>0.000193</td>\n",
              "      <td>0.001</td>\n",
              "      <td>0.01</td>\n",
              "      <td>{'C': 0.001, 'gamma': 0.01}</td>\n",
              "      <td>0.347826</td>\n",
              "      <td>0.347826</td>\n",
              "      <td>0.363636</td>\n",
              "      <td>0.363636</td>\n",
              "      <td>0.409091</td>\n",
              "      <td>0.366403</td>\n",
              "      <td>0.022485</td>\n",
              "      <td>22</td>\n",
              "    </tr>\n",
              "    <tr>\n",
              "      <th>2</th>\n",
              "      <td>0.000782</td>\n",
              "      <td>0.000017</td>\n",
              "      <td>0.000336</td>\n",
              "      <td>0.000014</td>\n",
              "      <td>0.001</td>\n",
              "      <td>0.1</td>\n",
              "      <td>{'C': 0.001, 'gamma': 0.1}</td>\n",
              "      <td>0.347826</td>\n",
              "      <td>0.347826</td>\n",
              "      <td>0.363636</td>\n",
              "      <td>0.363636</td>\n",
              "      <td>0.409091</td>\n",
              "      <td>0.366403</td>\n",
              "      <td>0.022485</td>\n",
              "      <td>22</td>\n",
              "    </tr>\n",
              "    <tr>\n",
              "      <th>3</th>\n",
              "      <td>0.000773</td>\n",
              "      <td>0.000005</td>\n",
              "      <td>0.000336</td>\n",
              "      <td>0.000012</td>\n",
              "      <td>0.001</td>\n",
              "      <td>1</td>\n",
              "      <td>{'C': 0.001, 'gamma': 1}</td>\n",
              "      <td>0.347826</td>\n",
              "      <td>0.347826</td>\n",
              "      <td>0.363636</td>\n",
              "      <td>0.363636</td>\n",
              "      <td>0.409091</td>\n",
              "      <td>0.366403</td>\n",
              "      <td>0.022485</td>\n",
              "      <td>22</td>\n",
              "    </tr>\n",
              "    <tr>\n",
              "      <th>4</th>\n",
              "      <td>0.000771</td>\n",
              "      <td>0.000006</td>\n",
              "      <td>0.000331</td>\n",
              "      <td>0.000012</td>\n",
              "      <td>0.001</td>\n",
              "      <td>10</td>\n",
              "      <td>{'C': 0.001, 'gamma': 10}</td>\n",
              "      <td>0.347826</td>\n",
              "      <td>0.347826</td>\n",
              "      <td>0.363636</td>\n",
              "      <td>0.363636</td>\n",
              "      <td>0.409091</td>\n",
              "      <td>0.366403</td>\n",
              "      <td>0.022485</td>\n",
              "      <td>22</td>\n",
              "    </tr>\n",
              "  </tbody>\n",
              "</table>\n",
              "</div>"
            ],
            "text/plain": [
              "   mean_fit_time  std_fit_time  ...  std_test_score  rank_test_score\n",
              "0       0.001552      0.000160  ...        0.022485               22\n",
              "1       0.001154      0.000301  ...        0.022485               22\n",
              "2       0.000782      0.000017  ...        0.022485               22\n",
              "3       0.000773      0.000005  ...        0.022485               22\n",
              "4       0.000771      0.000006  ...        0.022485               22\n",
              "\n",
              "[5 rows x 15 columns]"
            ]
          },
          "metadata": {
            "tags": []
          }
        }
      ]
    },
    {
      "cell_type": "markdown",
      "metadata": {
        "id": "YM2fdRphxE70",
        "colab_type": "text"
      },
      "source": [
        "* As we were searching a two-dimensional grid of parameters (C and gamma), this is best visualized as a heat map.\n",
        "\n",
        "* First, we extract the mean validation scores, then we reshape, the scores so that the axes correspond to 'C' and 'gamma'"
      ]
    },
    {
      "cell_type": "code",
      "metadata": {
        "id": "2epFMLHvwy8k",
        "colab_type": "code",
        "colab": {
          "base_uri": "https://localhost:8080/",
          "height": 296
        },
        "outputId": "fa1a3f83-3ab0-4f1e-9f03-5e79d9dda175"
      },
      "source": [
        "scores = np.array(results.mean_test_score).reshape(6, 6)\n",
        "\n",
        "# Plotting the mean cross-validation scores\n",
        "mglearn.tools.heatmap(scores, xlabel='gamma', xticklabels=param_grid['gamma'],\n",
        "                      ylabel='C', yticklabels=param_grid['C'], cmap=\"viridis\")"
      ],
      "execution_count": 13,
      "outputs": [
        {
          "output_type": "execute_result",
          "data": {
            "text/plain": [
              "<matplotlib.collections.PolyCollection at 0x7f17f59c8b38>"
            ]
          },
          "metadata": {
            "tags": []
          },
          "execution_count": 13
        },
        {
          "output_type": "display_data",
          "data": {
            "image/png": "[encoded data removed]",
            "text/plain": [
              "<Figure size 432x288 with 1 Axes>"
            ]
          },
          "metadata": {
            "tags": [],
            "needs_background": "light"
          }
        }
      ]
    },
    {
      "cell_type": "markdown",
      "metadata": {
        "id": "RbbU9gwRw264",
        "colab_type": "text"
      },
      "source": [
        "1. Each point in the heat map corresponds to one run of cross-validation, with a particular parameter setting.\n",
        "\n",
        "2. Light color = High Accuracy, Dark color = Low Accuracy.\n",
        "\n",
        "3. SVC is very sensitive to the setting of the parameters.\n",
        "\n",
        "4. For many of the parameters settings the accuracy is 40% and for other it is 96%.\n",
        "\n",
        "5. We can take away a lot of things from this plot:\n",
        "\n",
        "  * Parameters that we adjusted a very important for obtaining good performance.\n",
        "\n",
        "  * Both paramters matter a lot i.e *C* and *gamma*.\n",
        "\n",
        "  * The ranges we picked for the paramters are ranges in which we see significant changes in the outcome.\n",
        "\n",
        "  * The ranges for the parameters are large enough; the optimum values for each parameter are well within the range and not on the edges."
      ]
    },
    {
      "cell_type": "code",
      "metadata": {
        "id": "Qaw2o6i9xyU4",
        "colab_type": "code",
        "colab": {
          "base_uri": "https://localhost:8080/",
          "height": 320
        },
        "outputId": "82f8688b-7877-4839-a090-a333cb53aa24"
      },
      "source": [
        "# Looking at plots where results are less ideal, because the search ranges were not chosen properly.\n",
        "import matplotlib.pyplot as plt\n",
        "\n",
        "fig, axes = plt.subplots(1, 3, figsize=(13, 5))\n",
        "\n",
        "param_grid_linear = {'C': np.linspace(1, 2, 6),\n",
        "                     'gamma': np.linspace(1, 2, 6)}\n",
        "\n",
        "param_grid_one_log = {'C': np.linspace(1, 2, 6),\n",
        "                     'gamma': np.logspace(-3, 2, 6)}\n",
        "\n",
        "param_grid_range = {'C': np.logspace(-3, 2, 6),\n",
        "                     'gamma': np.logspace(-7, -2, 6)}\n",
        "\n",
        "for param_grid, ax in zip([param_grid_linear, param_grid_one_log,\n",
        "                           param_grid_range], axes):\n",
        "  grid_search = GridSearchCV(SVC(), param_grid, cv=5)\n",
        "  grid_search.fit(X_train, y_train)\n",
        "  scores = grid_search.cv_results_['mean_test_score'].reshape(6, 6) \n",
        "\n",
        "  # Plot the mean cross-validation scores\n",
        "  scores_image = mglearn.tools.heatmap(\n",
        "      scores, xlabel='gamma', ylabel='C', xticklabels=param_grid['gamma'],\n",
        "      yticklabels=param_grid['C'], cmap=\"viridis\", ax=ax)\n",
        "\n",
        "plt.colorbar(scores_image, ax=axes.tolist())"
      ],
      "execution_count": 14,
      "outputs": [
        {
          "output_type": "execute_result",
          "data": {
            "text/plain": [
              "<matplotlib.colorbar.Colorbar at 0x7f17f56d6940>"
            ]
          },
          "metadata": {
            "tags": []
          },
          "execution_count": 14
        },
        {
          "output_type": "display_data",
          "data": {
            "image/png": "[encoded data removed]",
            "text/plain": [
              "<Figure size 936x360 with 4 Axes>"
            ]
          },
          "metadata": {
            "tags": [],
            "needs_background": "light"
          }
        }
      ]
    },
    {
      "cell_type": "markdown",
      "metadata": {
        "id": "4w-uvpRs0jHp",
        "colab_type": "text"
      },
      "source": [
        "1. The first panel shows 0.01% accuracy change, this is caused due to improper scaling and range of the parameters C and gamma. But if there is no change in accuracy visible over the different parameter settings, it also could be that a parameter is just not important at all.\n",
        "\n",
        "2. It is usually good to try extreme values first, to see if there are any changes in the accuracy as a result of changing the parameter."
      ]
    },
    {
      "cell_type": "markdown",
      "metadata": {
        "id": "sUanUnBj1F6H",
        "colab_type": "text"
      },
      "source": [
        "3. The second panel shows a vertical strip pattern. This indicates only the setting of the gamma parameter makes any difference. This could mean that the gamma parameter is searching over interesting values but the C parameter is not - or it could mean that the C parameter is not important."
      ]
    },
    {
      "cell_type": "markdown",
      "metadata": {
        "id": "VWyyjePP1gLp",
        "colab_type": "text"
      },
      "source": [
        "4. The third panel shows changes in both 'C' and 'gamma'. However, we can see that in the entire bottom left of the plot, nothing interesting is happening.\n",
        "\n",
        "5. Optimum parameter setting is at the top right.\n",
        "\n",
        "6. As the optimum value is on the border of the plot, there might be some even better values beyond this border and we might want to change our search range to include more parameters."
      ]
    },
    {
      "cell_type": "markdown",
      "metadata": {
        "id": "5DmQJSAU2K3d",
        "colab_type": "text"
      },
      "source": [
        "**NOTE: Tuning the parameter grid based on the cross-validation scores is perfectly fine to explore the importance of the parameters. However, you should not test different parameter ranges on the final test set. Evaluation of the test set should happen only ONCE.**"
      ]
    },
    {
      "cell_type": "markdown",
      "metadata": {
        "id": "lPfYL3sRJhZq",
        "colab_type": "text"
      },
      "source": [
        "### Search over spaces that are not grids"
      ]
    },
    {
      "cell_type": "markdown",
      "metadata": {
        "id": "0eVdVCVTJoOv",
        "colab_type": "text"
      },
      "source": [
        "1. Sometimes, trying all the possible combinations of all parameters as GridSearchCV usually does, is not a good idea.\n",
        "\n",
        "2. For e.g, SVC has a kernel parameter, and depending on which kernel is chosen, other parameters will be relevant.\n",
        "\n",
        "3. If kernel = 'linear', the model is linear, and only the 'C' parameter is used.\n",
        "\n",
        "4. If kernel = 'rbf', the model uses 'gamma' and 'C' but does not use parameters like 'degree'.\n",
        "\n",
        "5. In this case, searching over all the possible compbinations of C, gamma and kernel wouldn't make sense:\n",
        "\n",
        "  * if kernel = 'linear', gamma is not used, and trying different values for gamma would be a waste of time.\n",
        "\n",
        "6. To deal with these kinds of \"conditional\" parameters, GridSearchCV allows the param_grid to be a **list of dictionaries**.\n",
        "\n",
        "7. Each dictionary in the list is expanded into an independent grid."
      ]
    },
    {
      "cell_type": "code",
      "metadata": {
        "id": "JHoPF7eELp2z",
        "colab_type": "code",
        "colab": {
          "base_uri": "https://localhost:8080/",
          "height": 72
        },
        "outputId": "49cbde60-fd9c-4c69-df8e-1a33fd6acaaa"
      },
      "source": [
        "param_grid = [{'kernel': ['rbf'],\n",
        "               'C': [0.001, 0.01, 0.1, 1, 10, 100],\n",
        "               'gamma': [0.001, 0.01, 0.1, 1, 10, 100]},\n",
        "              {'kernel': ['linear'],\n",
        "               'C': [0.001, 0.01, 0.1, 1, 10, 100]}]\n",
        "\n",
        "print(\"List of grids:\\n{}\".format(param_grid))"
      ],
      "execution_count": 15,
      "outputs": [
        {
          "output_type": "stream",
          "text": [
            "List of grids:\n",
            "[{'kernel': ['rbf'], 'C': [0.001, 0.01, 0.1, 1, 10, 100], 'gamma': [0.001, 0.01, 0.1, 1, 10, 100]}, {'kernel': ['linear'], 'C': [0.001, 0.01, 0.1, 1, 10, 100]}]\n"
          ],
          "name": "stdout"
        }
      ]
    },
    {
      "cell_type": "code",
      "metadata": {
        "id": "rTaaYDV_MWP3",
        "colab_type": "code",
        "colab": {
          "base_uri": "https://localhost:8080/",
          "height": 52
        },
        "outputId": "6b2a74f2-7da6-4716-cb25-1545ceef82ab"
      },
      "source": [
        "# Applying a more complex search\n",
        "\n",
        "grid_search = GridSearchCV(SVC(), param_grid, cv=5)\n",
        "grid_search.fit(X_train, y_train)\n",
        "print(\"Best Parameters: {}\".format(grid_search.best_params_))\n",
        "print(\"Best Cross-validation score: {:.2f}\".format(grid_search.best_score_))"
      ],
      "execution_count": 16,
      "outputs": [
        {
          "output_type": "stream",
          "text": [
            "Best Parameters: {'C': 10, 'gamma': 0.1, 'kernel': 'rbf'}\n",
            "Best Cross-validation score: 0.97\n"
          ],
          "name": "stdout"
        }
      ]
    },
    {
      "cell_type": "code",
      "metadata": {
        "id": "ke9RoudbNwUV",
        "colab_type": "code",
        "colab": {
          "base_uri": "https://localhost:8080/",
          "height": 601
        },
        "outputId": "4af686e3-2954-4fcc-b05a-987ad1efc372"
      },
      "source": [
        "# Looking at the cv_results_ again.\n",
        "\n",
        "results = pd.DataFrame(grid_search.cv_results_)\n",
        "\n",
        "# We display the transposed table so that it fits better on the page:\n",
        "display(results.T)"
      ],
      "execution_count": 17,
      "outputs": [
        {
          "output_type": "display_data",
          "data": {
            "text/html": [
              "<div>\n",
              "<style scoped>\n",
              "    .dataframe tbody tr th:only-of-type {\n",
              "        vertical-align: middle;\n",
              "    }\n",
              "\n",
              "    .dataframe tbody tr th {\n",
              "        vertical-align: top;\n",
              "    }\n",
              "\n",
              "    .dataframe thead th {\n",
              "        text-align: right;\n",
              "    }\n",
              "</style>\n",
              "<table border=\"1\" class=\"dataframe\">\n",
              "  <thead>\n",
              "    <tr style=\"text-align: right;\">\n",
              "      <th></th>\n",
              "      <th>0</th>\n",
              "      <th>1</th>\n",
              "      <th>2</th>\n",
              "      <th>3</th>\n",
              "      <th>4</th>\n",
              "      <th>5</th>\n",
              "      <th>6</th>\n",
              "      <th>7</th>\n",
              "      <th>8</th>\n",
              "      <th>9</th>\n",
              "      <th>10</th>\n",
              "      <th>11</th>\n",
              "      <th>12</th>\n",
              "      <th>13</th>\n",
              "      <th>14</th>\n",
              "      <th>15</th>\n",
              "      <th>16</th>\n",
              "      <th>17</th>\n",
              "      <th>18</th>\n",
              "      <th>19</th>\n",
              "      <th>20</th>\n",
              "      <th>21</th>\n",
              "      <th>22</th>\n",
              "      <th>23</th>\n",
              "      <th>24</th>\n",
              "      <th>25</th>\n",
              "      <th>26</th>\n",
              "      <th>27</th>\n",
              "      <th>28</th>\n",
              "      <th>29</th>\n",
              "      <th>30</th>\n",
              "      <th>31</th>\n",
              "      <th>32</th>\n",
              "      <th>33</th>\n",
              "      <th>34</th>\n",
              "      <th>35</th>\n",
              "      <th>36</th>\n",
              "      <th>37</th>\n",
              "      <th>38</th>\n",
              "      <th>39</th>\n",
              "      <th>40</th>\n",
              "      <th>41</th>\n",
              "    </tr>\n",
              "  </thead>\n",
              "  <tbody>\n",
              "    <tr>\n",
              "      <th>mean_fit_time</th>\n",
              "      <td>0.00133095</td>\n",
              "      <td>0.000754642</td>\n",
              "      <td>0.000781107</td>\n",
              "      <td>0.000774002</td>\n",
              "      <td>0.000767612</td>\n",
              "      <td>0.000779343</td>\n",
              "      <td>0.000741768</td>\n",
              "      <td>0.000748158</td>\n",
              "      <td>0.000773478</td>\n",
              "      <td>0.000770044</td>\n",
              "      <td>0.000775003</td>\n",
              "      <td>0.000852203</td>\n",
              "      <td>0.000743532</td>\n",
              "      <td>0.000745344</td>\n",
              "      <td>0.000654554</td>\n",
              "      <td>0.000700235</td>\n",
              "      <td>0.000789976</td>\n",
              "      <td>0.0008636</td>\n",
              "      <td>0.000738811</td>\n",
              "      <td>0.000581121</td>\n",
              "      <td>0.000485849</td>\n",
              "      <td>0.000588655</td>\n",
              "      <td>0.000933075</td>\n",
              "      <td>0.00097537</td>\n",
              "      <td>0.000579834</td>\n",
              "      <td>0.000521469</td>\n",
              "      <td>0.000470543</td>\n",
              "      <td>0.000890303</td>\n",
              "      <td>0.00107956</td>\n",
              "      <td>0.000993538</td>\n",
              "      <td>0.000481796</td>\n",
              "      <td>0.000450087</td>\n",
              "      <td>0.000453043</td>\n",
              "      <td>0.000607347</td>\n",
              "      <td>0.000949097</td>\n",
              "      <td>0.000981188</td>\n",
              "      <td>0.000563192</td>\n",
              "      <td>0.000516653</td>\n",
              "      <td>0.000458097</td>\n",
              "      <td>0.000475359</td>\n",
              "      <td>0.000447702</td>\n",
              "      <td>0.000477219</td>\n",
              "    </tr>\n",
              "    <tr>\n",
              "      <th>std_fit_time</th>\n",
              "      <td>0.00045667</td>\n",
              "      <td>6.35536e-06</td>\n",
              "      <td>1.5236e-05</td>\n",
              "      <td>1.58512e-05</td>\n",
              "      <td>1.42491e-05</td>\n",
              "      <td>7.52497e-06</td>\n",
              "      <td>1.66384e-05</td>\n",
              "      <td>8.6148e-06</td>\n",
              "      <td>2.90039e-05</td>\n",
              "      <td>1.42481e-05</td>\n",
              "      <td>8.48529e-06</td>\n",
              "      <td>9.11321e-06</td>\n",
              "      <td>1.66645e-05</td>\n",
              "      <td>9.13538e-06</td>\n",
              "      <td>2.13027e-05</td>\n",
              "      <td>2.07701e-05</td>\n",
              "      <td>2.28288e-05</td>\n",
              "      <td>2.17959e-05</td>\n",
              "      <td>2.27524e-05</td>\n",
              "      <td>7.4463e-06</td>\n",
              "      <td>1.99882e-05</td>\n",
              "      <td>1.48755e-05</td>\n",
              "      <td>2.20877e-05</td>\n",
              "      <td>3.23758e-06</td>\n",
              "      <td>7.9619e-06</td>\n",
              "      <td>9.19531e-05</td>\n",
              "      <td>3.567e-05</td>\n",
              "      <td>1.15138e-05</td>\n",
              "      <td>0.000188116</td>\n",
              "      <td>2.74798e-05</td>\n",
              "      <td>1.60329e-05</td>\n",
              "      <td>1.60258e-05</td>\n",
              "      <td>1.87643e-05</td>\n",
              "      <td>3.77484e-05</td>\n",
              "      <td>1.42871e-05</td>\n",
              "      <td>1.35883e-05</td>\n",
              "      <td>1.21621e-05</td>\n",
              "      <td>9.97718e-06</td>\n",
              "      <td>1.13939e-05</td>\n",
              "      <td>3.45486e-05</td>\n",
              "      <td>1.08782e-05</td>\n",
              "      <td>4.1618e-05</td>\n",
              "    </tr>\n",
              "    <tr>\n",
              "      <th>mean_score_time</th>\n",
              "      <td>0.000556803</td>\n",
              "      <td>0.000343227</td>\n",
              "      <td>0.000343323</td>\n",
              "      <td>0.000328684</td>\n",
              "      <td>0.000323725</td>\n",
              "      <td>0.000333405</td>\n",
              "      <td>0.000338268</td>\n",
              "      <td>0.000329161</td>\n",
              "      <td>0.000342751</td>\n",
              "      <td>0.000321913</td>\n",
              "      <td>0.00032382</td>\n",
              "      <td>0.000340223</td>\n",
              "      <td>0.000335217</td>\n",
              "      <td>0.000319576</td>\n",
              "      <td>0.000326061</td>\n",
              "      <td>0.000316715</td>\n",
              "      <td>0.000335646</td>\n",
              "      <td>0.000339174</td>\n",
              "      <td>0.000332928</td>\n",
              "      <td>0.000320673</td>\n",
              "      <td>0.000295448</td>\n",
              "      <td>0.000295115</td>\n",
              "      <td>0.000321388</td>\n",
              "      <td>0.000340033</td>\n",
              "      <td>0.000341177</td>\n",
              "      <td>0.000291872</td>\n",
              "      <td>0.00030055</td>\n",
              "      <td>0.000475168</td>\n",
              "      <td>0.000389862</td>\n",
              "      <td>0.000349092</td>\n",
              "      <td>0.000296021</td>\n",
              "      <td>0.000280857</td>\n",
              "      <td>0.000267696</td>\n",
              "      <td>0.000299644</td>\n",
              "      <td>0.000334978</td>\n",
              "      <td>0.00034914</td>\n",
              "      <td>0.000286818</td>\n",
              "      <td>0.000288296</td>\n",
              "      <td>0.000275564</td>\n",
              "      <td>0.000263119</td>\n",
              "      <td>0.000278473</td>\n",
              "      <td>0.000264597</td>\n",
              "    </tr>\n",
              "    <tr>\n",
              "      <th>std_score_time</th>\n",
              "      <td>0.000239149</td>\n",
              "      <td>1.81641e-05</td>\n",
              "      <td>9.34649e-06</td>\n",
              "      <td>5.18767e-06</td>\n",
              "      <td>4.99975e-06</td>\n",
              "      <td>7.99694e-06</td>\n",
              "      <td>1.61699e-05</td>\n",
              "      <td>1.06694e-05</td>\n",
              "      <td>3.2902e-05</td>\n",
              "      <td>8.5051e-06</td>\n",
              "      <td>3.96492e-06</td>\n",
              "      <td>1.17296e-05</td>\n",
              "      <td>1.015e-05</td>\n",
              "      <td>9.08071e-06</td>\n",
              "      <td>1.3081e-05</td>\n",
              "      <td>1.13419e-05</td>\n",
              "      <td>9.93081e-06</td>\n",
              "      <td>1.15475e-05</td>\n",
              "      <td>1.0004e-05</td>\n",
              "      <td>1.24033e-05</td>\n",
              "      <td>1.43768e-05</td>\n",
              "      <td>1.57207e-05</td>\n",
              "      <td>9.72911e-06</td>\n",
              "      <td>7.49621e-06</td>\n",
              "      <td>4.54746e-05</td>\n",
              "      <td>1.33807e-05</td>\n",
              "      <td>2.36895e-05</td>\n",
              "      <td>2.57602e-05</td>\n",
              "      <td>8.87264e-05</td>\n",
              "      <td>1.3922e-05</td>\n",
              "      <td>1.19453e-05</td>\n",
              "      <td>1.62237e-05</td>\n",
              "      <td>2.52949e-06</td>\n",
              "      <td>1.49801e-05</td>\n",
              "      <td>1.08736e-05</td>\n",
              "      <td>2.42244e-05</td>\n",
              "      <td>1.23279e-05</td>\n",
              "      <td>9.99244e-06</td>\n",
              "      <td>1.56613e-05</td>\n",
              "      <td>7.97131e-06</td>\n",
              "      <td>1.69978e-05</td>\n",
              "      <td>1.5417e-05</td>\n",
              "    </tr>\n",
              "    <tr>\n",
              "      <th>param_C</th>\n",
              "      <td>0.001</td>\n",
              "      <td>0.001</td>\n",
              "      <td>0.001</td>\n",
              "      <td>0.001</td>\n",
              "      <td>0.001</td>\n",
              "      <td>0.001</td>\n",
              "      <td>0.01</td>\n",
              "      <td>0.01</td>\n",
              "      <td>0.01</td>\n",
              "      <td>0.01</td>\n",
              "      <td>0.01</td>\n",
              "      <td>0.01</td>\n",
              "      <td>0.1</td>\n",
              "      <td>0.1</td>\n",
              "      <td>0.1</td>\n",
              "      <td>0.1</td>\n",
              "      <td>0.1</td>\n",
              "      <td>0.1</td>\n",
              "      <td>1</td>\n",
              "      <td>1</td>\n",
              "      <td>1</td>\n",
              "      <td>1</td>\n",
              "      <td>1</td>\n",
              "      <td>1</td>\n",
              "      <td>10</td>\n",
              "      <td>10</td>\n",
              "      <td>10</td>\n",
              "      <td>10</td>\n",
              "      <td>10</td>\n",
              "      <td>10</td>\n",
              "      <td>100</td>\n",
              "      <td>100</td>\n",
              "      <td>100</td>\n",
              "      <td>100</td>\n",
              "      <td>100</td>\n",
              "      <td>100</td>\n",
              "      <td>0.001</td>\n",
              "      <td>0.01</td>\n",
              "      <td>0.1</td>\n",
              "      <td>1</td>\n",
              "      <td>10</td>\n",
              "      <td>100</td>\n",
              "    </tr>\n",
              "    <tr>\n",
              "      <th>param_gamma</th>\n",
              "      <td>0.001</td>\n",
              "      <td>0.01</td>\n",
              "      <td>0.1</td>\n",
              "      <td>1</td>\n",
              "      <td>10</td>\n",
              "      <td>100</td>\n",
              "      <td>0.001</td>\n",
              "      <td>0.01</td>\n",
              "      <td>0.1</td>\n",
              "      <td>1</td>\n",
              "      <td>10</td>\n",
              "      <td>100</td>\n",
              "      <td>0.001</td>\n",
              "      <td>0.01</td>\n",
              "      <td>0.1</td>\n",
              "      <td>1</td>\n",
              "      <td>10</td>\n",
              "      <td>100</td>\n",
              "      <td>0.001</td>\n",
              "      <td>0.01</td>\n",
              "      <td>0.1</td>\n",
              "      <td>1</td>\n",
              "      <td>10</td>\n",
              "      <td>100</td>\n",
              "      <td>0.001</td>\n",
              "      <td>0.01</td>\n",
              "      <td>0.1</td>\n",
              "      <td>1</td>\n",
              "      <td>10</td>\n",
              "      <td>100</td>\n",
              "      <td>0.001</td>\n",
              "      <td>0.01</td>\n",
              "      <td>0.1</td>\n",
              "      <td>1</td>\n",
              "      <td>10</td>\n",
              "      <td>100</td>\n",
              "      <td>NaN</td>\n",
              "      <td>NaN</td>\n",
              "      <td>NaN</td>\n",
              "      <td>NaN</td>\n",
              "      <td>NaN</td>\n",
              "      <td>NaN</td>\n",
              "    </tr>\n",
              "    <tr>\n",
              "      <th>param_kernel</th>\n",
              "      <td>rbf</td>\n",
              "      <td>rbf</td>\n",
              "      <td>rbf</td>\n",
              "      <td>rbf</td>\n",
              "      <td>rbf</td>\n",
              "      <td>rbf</td>\n",
              "      <td>rbf</td>\n",
              "      <td>rbf</td>\n",
              "      <td>rbf</td>\n",
              "      <td>rbf</td>\n",
              "      <td>rbf</td>\n",
              "      <td>rbf</td>\n",
              "      <td>rbf</td>\n",
              "      <td>rbf</td>\n",
              "      <td>rbf</td>\n",
              "      <td>rbf</td>\n",
              "      <td>rbf</td>\n",
              "      <td>rbf</td>\n",
              "      <td>rbf</td>\n",
              "      <td>rbf</td>\n",
              "      <td>rbf</td>\n",
              "      <td>rbf</td>\n",
              "      <td>rbf</td>\n",
              "      <td>rbf</td>\n",
              "      <td>rbf</td>\n",
              "      <td>rbf</td>\n",
              "      <td>rbf</td>\n",
              "      <td>rbf</td>\n",
              "      <td>rbf</td>\n",
              "      <td>rbf</td>\n",
              "      <td>rbf</td>\n",
              "      <td>rbf</td>\n",
              "      <td>rbf</td>\n",
              "      <td>rbf</td>\n",
              "      <td>rbf</td>\n",
              "      <td>rbf</td>\n",
              "      <td>linear</td>\n",
              "      <td>linear</td>\n",
              "      <td>linear</td>\n",
              "      <td>linear</td>\n",
              "      <td>linear</td>\n",
              "      <td>linear</td>\n",
              "    </tr>\n",
              "    <tr>\n",
              "      <th>params</th>\n",
              "      <td>{'C': 0.001, 'gamma': 0.001, 'kernel': 'rbf'}</td>\n",
              "      <td>{'C': 0.001, 'gamma': 0.01, 'kernel': 'rbf'}</td>\n",
              "      <td>{'C': 0.001, 'gamma': 0.1, 'kernel': 'rbf'}</td>\n",
              "      <td>{'C': 0.001, 'gamma': 1, 'kernel': 'rbf'}</td>\n",
              "      <td>{'C': 0.001, 'gamma': 10, 'kernel': 'rbf'}</td>\n",
              "      <td>{'C': 0.001, 'gamma': 100, 'kernel': 'rbf'}</td>\n",
              "      <td>{'C': 0.01, 'gamma': 0.001, 'kernel': 'rbf'}</td>\n",
              "      <td>{'C': 0.01, 'gamma': 0.01, 'kernel': 'rbf'}</td>\n",
              "      <td>{'C': 0.01, 'gamma': 0.1, 'kernel': 'rbf'}</td>\n",
              "      <td>{'C': 0.01, 'gamma': 1, 'kernel': 'rbf'}</td>\n",
              "      <td>{'C': 0.01, 'gamma': 10, 'kernel': 'rbf'}</td>\n",
              "      <td>{'C': 0.01, 'gamma': 100, 'kernel': 'rbf'}</td>\n",
              "      <td>{'C': 0.1, 'gamma': 0.001, 'kernel': 'rbf'}</td>\n",
              "      <td>{'C': 0.1, 'gamma': 0.01, 'kernel': 'rbf'}</td>\n",
              "      <td>{'C': 0.1, 'gamma': 0.1, 'kernel': 'rbf'}</td>\n",
              "      <td>{'C': 0.1, 'gamma': 1, 'kernel': 'rbf'}</td>\n",
              "      <td>{'C': 0.1, 'gamma': 10, 'kernel': 'rbf'}</td>\n",
              "      <td>{'C': 0.1, 'gamma': 100, 'kernel': 'rbf'}</td>\n",
              "      <td>{'C': 1, 'gamma': 0.001, 'kernel': 'rbf'}</td>\n",
              "      <td>{'C': 1, 'gamma': 0.01, 'kernel': 'rbf'}</td>\n",
              "      <td>{'C': 1, 'gamma': 0.1, 'kernel': 'rbf'}</td>\n",
              "      <td>{'C': 1, 'gamma': 1, 'kernel': 'rbf'}</td>\n",
              "      <td>{'C': 1, 'gamma': 10, 'kernel': 'rbf'}</td>\n",
              "      <td>{'C': 1, 'gamma': 100, 'kernel': 'rbf'}</td>\n",
              "      <td>{'C': 10, 'gamma': 0.001, 'kernel': 'rbf'}</td>\n",
              "      <td>{'C': 10, 'gamma': 0.01, 'kernel': 'rbf'}</td>\n",
              "      <td>{'C': 10, 'gamma': 0.1, 'kernel': 'rbf'}</td>\n",
              "      <td>{'C': 10, 'gamma': 1, 'kernel': 'rbf'}</td>\n",
              "      <td>{'C': 10, 'gamma': 10, 'kernel': 'rbf'}</td>\n",
              "      <td>{'C': 10, 'gamma': 100, 'kernel': 'rbf'}</td>\n",
              "      <td>{'C': 100, 'gamma': 0.001, 'kernel': 'rbf'}</td>\n",
              "      <td>{'C': 100, 'gamma': 0.01, 'kernel': 'rbf'}</td>\n",
              "      <td>{'C': 100, 'gamma': 0.1, 'kernel': 'rbf'}</td>\n",
              "      <td>{'C': 100, 'gamma': 1, 'kernel': 'rbf'}</td>\n",
              "      <td>{'C': 100, 'gamma': 10, 'kernel': 'rbf'}</td>\n",
              "      <td>{'C': 100, 'gamma': 100, 'kernel': 'rbf'}</td>\n",
              "      <td>{'C': 0.001, 'kernel': 'linear'}</td>\n",
              "      <td>{'C': 0.01, 'kernel': 'linear'}</td>\n",
              "      <td>{'C': 0.1, 'kernel': 'linear'}</td>\n",
              "      <td>{'C': 1, 'kernel': 'linear'}</td>\n",
              "      <td>{'C': 10, 'kernel': 'linear'}</td>\n",
              "      <td>{'C': 100, 'kernel': 'linear'}</td>\n",
              "    </tr>\n",
              "    <tr>\n",
              "      <th>split0_test_score</th>\n",
              "      <td>0.347826</td>\n",
              "      <td>0.347826</td>\n",
              "      <td>0.347826</td>\n",
              "      <td>0.347826</td>\n",
              "      <td>0.347826</td>\n",
              "      <td>0.347826</td>\n",
              "      <td>0.347826</td>\n",
              "      <td>0.347826</td>\n",
              "      <td>0.347826</td>\n",
              "      <td>0.347826</td>\n",
              "      <td>0.347826</td>\n",
              "      <td>0.347826</td>\n",
              "      <td>0.347826</td>\n",
              "      <td>0.695652</td>\n",
              "      <td>0.913043</td>\n",
              "      <td>1</td>\n",
              "      <td>0.347826</td>\n",
              "      <td>0.347826</td>\n",
              "      <td>0.695652</td>\n",
              "      <td>0.913043</td>\n",
              "      <td>1</td>\n",
              "      <td>0.956522</td>\n",
              "      <td>0.913043</td>\n",
              "      <td>0.391304</td>\n",
              "      <td>0.913043</td>\n",
              "      <td>1</td>\n",
              "      <td>1</td>\n",
              "      <td>0.956522</td>\n",
              "      <td>0.869565</td>\n",
              "      <td>0.521739</td>\n",
              "      <td>1</td>\n",
              "      <td>1</td>\n",
              "      <td>1</td>\n",
              "      <td>0.956522</td>\n",
              "      <td>0.869565</td>\n",
              "      <td>0.521739</td>\n",
              "      <td>0.347826</td>\n",
              "      <td>0.869565</td>\n",
              "      <td>1</td>\n",
              "      <td>1</td>\n",
              "      <td>1</td>\n",
              "      <td>0.956522</td>\n",
              "    </tr>\n",
              "    <tr>\n",
              "      <th>split1_test_score</th>\n",
              "      <td>0.347826</td>\n",
              "      <td>0.347826</td>\n",
              "      <td>0.347826</td>\n",
              "      <td>0.347826</td>\n",
              "      <td>0.347826</td>\n",
              "      <td>0.347826</td>\n",
              "      <td>0.347826</td>\n",
              "      <td>0.347826</td>\n",
              "      <td>0.347826</td>\n",
              "      <td>0.347826</td>\n",
              "      <td>0.347826</td>\n",
              "      <td>0.347826</td>\n",
              "      <td>0.347826</td>\n",
              "      <td>0.695652</td>\n",
              "      <td>0.913043</td>\n",
              "      <td>0.913043</td>\n",
              "      <td>0.347826</td>\n",
              "      <td>0.347826</td>\n",
              "      <td>0.695652</td>\n",
              "      <td>0.913043</td>\n",
              "      <td>0.956522</td>\n",
              "      <td>0.913043</td>\n",
              "      <td>0.956522</td>\n",
              "      <td>0.434783</td>\n",
              "      <td>0.913043</td>\n",
              "      <td>0.956522</td>\n",
              "      <td>0.956522</td>\n",
              "      <td>0.956522</td>\n",
              "      <td>0.913043</td>\n",
              "      <td>0.521739</td>\n",
              "      <td>0.956522</td>\n",
              "      <td>0.913043</td>\n",
              "      <td>0.956522</td>\n",
              "      <td>0.956522</td>\n",
              "      <td>0.913043</td>\n",
              "      <td>0.521739</td>\n",
              "      <td>0.347826</td>\n",
              "      <td>0.869565</td>\n",
              "      <td>0.913043</td>\n",
              "      <td>0.956522</td>\n",
              "      <td>1</td>\n",
              "      <td>0.956522</td>\n",
              "    </tr>\n",
              "    <tr>\n",
              "      <th>split2_test_score</th>\n",
              "      <td>0.363636</td>\n",
              "      <td>0.363636</td>\n",
              "      <td>0.363636</td>\n",
              "      <td>0.363636</td>\n",
              "      <td>0.363636</td>\n",
              "      <td>0.363636</td>\n",
              "      <td>0.363636</td>\n",
              "      <td>0.363636</td>\n",
              "      <td>0.363636</td>\n",
              "      <td>0.363636</td>\n",
              "      <td>0.363636</td>\n",
              "      <td>0.363636</td>\n",
              "      <td>0.363636</td>\n",
              "      <td>0.681818</td>\n",
              "      <td>0.909091</td>\n",
              "      <td>1</td>\n",
              "      <td>0.363636</td>\n",
              "      <td>0.363636</td>\n",
              "      <td>0.681818</td>\n",
              "      <td>1</td>\n",
              "      <td>1</td>\n",
              "      <td>1</td>\n",
              "      <td>1</td>\n",
              "      <td>0.545455</td>\n",
              "      <td>1</td>\n",
              "      <td>1</td>\n",
              "      <td>1</td>\n",
              "      <td>1</td>\n",
              "      <td>1</td>\n",
              "      <td>0.590909</td>\n",
              "      <td>1</td>\n",
              "      <td>1</td>\n",
              "      <td>1</td>\n",
              "      <td>1</td>\n",
              "      <td>1</td>\n",
              "      <td>0.590909</td>\n",
              "      <td>0.363636</td>\n",
              "      <td>0.772727</td>\n",
              "      <td>1</td>\n",
              "      <td>1</td>\n",
              "      <td>1</td>\n",
              "      <td>1</td>\n",
              "    </tr>\n",
              "    <tr>\n",
              "      <th>split3_test_score</th>\n",
              "      <td>0.363636</td>\n",
              "      <td>0.363636</td>\n",
              "      <td>0.363636</td>\n",
              "      <td>0.363636</td>\n",
              "      <td>0.363636</td>\n",
              "      <td>0.363636</td>\n",
              "      <td>0.363636</td>\n",
              "      <td>0.363636</td>\n",
              "      <td>0.363636</td>\n",
              "      <td>0.363636</td>\n",
              "      <td>0.363636</td>\n",
              "      <td>0.363636</td>\n",
              "      <td>0.363636</td>\n",
              "      <td>0.681818</td>\n",
              "      <td>0.863636</td>\n",
              "      <td>0.909091</td>\n",
              "      <td>0.363636</td>\n",
              "      <td>0.363636</td>\n",
              "      <td>0.681818</td>\n",
              "      <td>0.909091</td>\n",
              "      <td>0.909091</td>\n",
              "      <td>0.909091</td>\n",
              "      <td>0.818182</td>\n",
              "      <td>0.5</td>\n",
              "      <td>0.909091</td>\n",
              "      <td>0.909091</td>\n",
              "      <td>0.954545</td>\n",
              "      <td>0.863636</td>\n",
              "      <td>0.818182</td>\n",
              "      <td>0.590909</td>\n",
              "      <td>0.909091</td>\n",
              "      <td>0.954545</td>\n",
              "      <td>0.863636</td>\n",
              "      <td>0.863636</td>\n",
              "      <td>0.818182</td>\n",
              "      <td>0.590909</td>\n",
              "      <td>0.363636</td>\n",
              "      <td>0.772727</td>\n",
              "      <td>0.909091</td>\n",
              "      <td>0.954545</td>\n",
              "      <td>0.909091</td>\n",
              "      <td>0.909091</td>\n",
              "    </tr>\n",
              "    <tr>\n",
              "      <th>split4_test_score</th>\n",
              "      <td>0.409091</td>\n",
              "      <td>0.409091</td>\n",
              "      <td>0.409091</td>\n",
              "      <td>0.409091</td>\n",
              "      <td>0.409091</td>\n",
              "      <td>0.409091</td>\n",
              "      <td>0.409091</td>\n",
              "      <td>0.409091</td>\n",
              "      <td>0.409091</td>\n",
              "      <td>0.409091</td>\n",
              "      <td>0.409091</td>\n",
              "      <td>0.409091</td>\n",
              "      <td>0.409091</td>\n",
              "      <td>0.727273</td>\n",
              "      <td>0.909091</td>\n",
              "      <td>0.954545</td>\n",
              "      <td>0.409091</td>\n",
              "      <td>0.409091</td>\n",
              "      <td>0.727273</td>\n",
              "      <td>0.954545</td>\n",
              "      <td>0.954545</td>\n",
              "      <td>0.954545</td>\n",
              "      <td>0.954545</td>\n",
              "      <td>0.636364</td>\n",
              "      <td>0.954545</td>\n",
              "      <td>0.954545</td>\n",
              "      <td>0.954545</td>\n",
              "      <td>0.954545</td>\n",
              "      <td>0.954545</td>\n",
              "      <td>0.681818</td>\n",
              "      <td>0.954545</td>\n",
              "      <td>0.954545</td>\n",
              "      <td>0.954545</td>\n",
              "      <td>0.954545</td>\n",
              "      <td>0.954545</td>\n",
              "      <td>0.681818</td>\n",
              "      <td>0.409091</td>\n",
              "      <td>0.909091</td>\n",
              "      <td>0.954545</td>\n",
              "      <td>0.954545</td>\n",
              "      <td>0.954545</td>\n",
              "      <td>0.954545</td>\n",
              "    </tr>\n",
              "    <tr>\n",
              "      <th>mean_test_score</th>\n",
              "      <td>0.366403</td>\n",
              "      <td>0.366403</td>\n",
              "      <td>0.366403</td>\n",
              "      <td>0.366403</td>\n",
              "      <td>0.366403</td>\n",
              "      <td>0.366403</td>\n",
              "      <td>0.366403</td>\n",
              "      <td>0.366403</td>\n",
              "      <td>0.366403</td>\n",
              "      <td>0.366403</td>\n",
              "      <td>0.366403</td>\n",
              "      <td>0.366403</td>\n",
              "      <td>0.366403</td>\n",
              "      <td>0.696443</td>\n",
              "      <td>0.901581</td>\n",
              "      <td>0.955336</td>\n",
              "      <td>0.366403</td>\n",
              "      <td>0.366403</td>\n",
              "      <td>0.696443</td>\n",
              "      <td>0.937945</td>\n",
              "      <td>0.964032</td>\n",
              "      <td>0.94664</td>\n",
              "      <td>0.928458</td>\n",
              "      <td>0.501581</td>\n",
              "      <td>0.937945</td>\n",
              "      <td>0.964032</td>\n",
              "      <td>0.973123</td>\n",
              "      <td>0.946245</td>\n",
              "      <td>0.911067</td>\n",
              "      <td>0.581423</td>\n",
              "      <td>0.964032</td>\n",
              "      <td>0.964427</td>\n",
              "      <td>0.954941</td>\n",
              "      <td>0.946245</td>\n",
              "      <td>0.911067</td>\n",
              "      <td>0.581423</td>\n",
              "      <td>0.366403</td>\n",
              "      <td>0.838735</td>\n",
              "      <td>0.955336</td>\n",
              "      <td>0.973123</td>\n",
              "      <td>0.972727</td>\n",
              "      <td>0.955336</td>\n",
              "    </tr>\n",
              "    <tr>\n",
              "      <th>std_test_score</th>\n",
              "      <td>0.0224845</td>\n",
              "      <td>0.0224845</td>\n",
              "      <td>0.0224845</td>\n",
              "      <td>0.0224845</td>\n",
              "      <td>0.0224845</td>\n",
              "      <td>0.0224845</td>\n",
              "      <td>0.0224845</td>\n",
              "      <td>0.0224845</td>\n",
              "      <td>0.0224845</td>\n",
              "      <td>0.0224845</td>\n",
              "      <td>0.0224845</td>\n",
              "      <td>0.0224845</td>\n",
              "      <td>0.0224845</td>\n",
              "      <td>0.0166102</td>\n",
              "      <td>0.0190545</td>\n",
              "      <td>0.0397936</td>\n",
              "      <td>0.0224845</td>\n",
              "      <td>0.0224845</td>\n",
              "      <td>0.0166102</td>\n",
              "      <td>0.0352112</td>\n",
              "      <td>0.0339185</td>\n",
              "      <td>0.0333049</td>\n",
              "      <td>0.0616195</td>\n",
              "      <td>0.0856933</td>\n",
              "      <td>0.0352112</td>\n",
              "      <td>0.0339185</td>\n",
              "      <td>0.0219572</td>\n",
              "      <td>0.0447077</td>\n",
              "      <td>0.0634877</td>\n",
              "      <td>0.0589635</td>\n",
              "      <td>0.0339185</td>\n",
              "      <td>0.0327611</td>\n",
              "      <td>0.0497992</td>\n",
              "      <td>0.0447077</td>\n",
              "      <td>0.0634877</td>\n",
              "      <td>0.0589635</td>\n",
              "      <td>0.0224845</td>\n",
              "      <td>0.0557943</td>\n",
              "      <td>0.0397936</td>\n",
              "      <td>0.0219572</td>\n",
              "      <td>0.0363636</td>\n",
              "      <td>0.0287643</td>\n",
              "    </tr>\n",
              "    <tr>\n",
              "      <th>rank_test_score</th>\n",
              "      <td>27</td>\n",
              "      <td>27</td>\n",
              "      <td>27</td>\n",
              "      <td>27</td>\n",
              "      <td>27</td>\n",
              "      <td>27</td>\n",
              "      <td>27</td>\n",
              "      <td>27</td>\n",
              "      <td>27</td>\n",
              "      <td>27</td>\n",
              "      <td>27</td>\n",
              "      <td>27</td>\n",
              "      <td>27</td>\n",
              "      <td>22</td>\n",
              "      <td>20</td>\n",
              "      <td>8</td>\n",
              "      <td>27</td>\n",
              "      <td>27</td>\n",
              "      <td>22</td>\n",
              "      <td>15</td>\n",
              "      <td>5</td>\n",
              "      <td>12</td>\n",
              "      <td>17</td>\n",
              "      <td>26</td>\n",
              "      <td>15</td>\n",
              "      <td>5</td>\n",
              "      <td>1</td>\n",
              "      <td>13</td>\n",
              "      <td>18</td>\n",
              "      <td>24</td>\n",
              "      <td>5</td>\n",
              "      <td>4</td>\n",
              "      <td>11</td>\n",
              "      <td>13</td>\n",
              "      <td>18</td>\n",
              "      <td>24</td>\n",
              "      <td>27</td>\n",
              "      <td>21</td>\n",
              "      <td>8</td>\n",
              "      <td>1</td>\n",
              "      <td>3</td>\n",
              "      <td>8</td>\n",
              "    </tr>\n",
              "  </tbody>\n",
              "</table>\n",
              "</div>"
            ],
            "text/plain": [
              "                                                               0  ...                              41\n",
              "mean_fit_time                                         0.00133095  ...                     0.000477219\n",
              "std_fit_time                                          0.00045667  ...                      4.1618e-05\n",
              "mean_score_time                                      0.000556803  ...                     0.000264597\n",
              "std_score_time                                       0.000239149  ...                      1.5417e-05\n",
              "param_C                                                    0.001  ...                             100\n",
              "param_gamma                                                0.001  ...                             NaN\n",
              "param_kernel                                                 rbf  ...                          linear\n",
              "params             {'C': 0.001, 'gamma': 0.001, 'kernel': 'rbf'}  ...  {'C': 100, 'kernel': 'linear'}\n",
              "split0_test_score                                       0.347826  ...                        0.956522\n",
              "split1_test_score                                       0.347826  ...                        0.956522\n",
              "split2_test_score                                       0.363636  ...                               1\n",
              "split3_test_score                                       0.363636  ...                        0.909091\n",
              "split4_test_score                                       0.409091  ...                        0.954545\n",
              "mean_test_score                                         0.366403  ...                        0.955336\n",
              "std_test_score                                         0.0224845  ...                       0.0287643\n",
              "rank_test_score                                               27  ...                               8\n",
              "\n",
              "[16 rows x 42 columns]"
            ]
          },
          "metadata": {
            "tags": []
          }
        }
      ]
    },
    {
      "cell_type": "markdown",
      "metadata": {
        "id": "U0NjX-2pOcIP",
        "colab_type": "text"
      },
      "source": [
        "### Using different cross-validation strategies with grid search"
      ]
    },
    {
      "cell_type": "markdown",
      "metadata": {
        "id": "eMFx6lI-OiyW",
        "colab_type": "text"
      },
      "source": [
        "1. GridSearchCV uses stratified k-fold cross-validation be default for classification and k-fold CV for regression.\n",
        "\n",
        "2. However, you can also pass any cross-validation splitter as the cv parameter in GridSearchCV.\n",
        "\n",
        "3. In particular, to get only a single split into a training and a validation set, we can use **ShuffleSplit** or **StratifiedShuffleSplit** with n_iter = 1.\n",
        "\n",
        "4. This might be helpful for very large datasets, or very slow models."
      ]
    },
    {
      "cell_type": "markdown",
      "metadata": {
        "id": "OwGj-UxCl6dh",
        "colab_type": "text"
      },
      "source": [
        "### Nested Cross-Validation"
      ]
    },
    {
      "cell_type": "code",
      "metadata": {
        "id": "gllNLY0HOWfI",
        "colab_type": "code",
        "colab": {
          "base_uri": "https://localhost:8080/",
          "height": 52
        },
        "outputId": "bb022e4f-faf8-489d-88e2-fb41bff1a3b7"
      },
      "source": [
        "scores = cross_val_score(GridSearchCV(SVC(), param_grid, cv=5), iris.data, iris.target, cv=5)\n",
        "\n",
        "print(\"Cross-validation scores: \", scores)\n",
        "print(\"Mean cross-validation score: \", scores.mean())"
      ],
      "execution_count": 18,
      "outputs": [
        {
          "output_type": "stream",
          "text": [
            "Cross-validation scores:  [0.96666667 1.         0.9        0.96666667 1.        ]\n",
            "Mean cross-validation score:  0.9666666666666668\n"
          ],
          "name": "stdout"
        }
      ]
    },
    {
      "cell_type": "markdown",
      "metadata": {
        "id": "vbkh-L62pUcy",
        "colab_type": "text"
      },
      "source": [
        "* Result of the cross-validation can be summarized as \"SVC can achieve 98% mean cross-validation accuracy on the iris dataset\" - nothing more and nothing else.\n",
        "\n",
        "1. Here we used the stratified 5-fold cross-validation in both the inner and the outer loop.\n",
        "\n",
        "2. As our param_grid contains 36 combinations of parameters this results is a whooping 36 * 5 * 5 = 900 models being built, making nested CV a very expensive procedure.\n",
        "\n",
        "3. Same CV splitter was used for both the inner and outer loop but we can use a different splitter.\n",
        "\n",
        "4. It can be a bit tricky to understand what is happening in the above single line of code, and therefore it can be visualized as **for** loops."
      ]
    },
    {
      "cell_type": "code",
      "metadata": {
        "id": "danbvGyhrYMC",
        "colab_type": "code",
        "colab": {}
      },
      "source": [
        "def nested_cv(X, y, inner_cv, outer_cv, Classifier, parameter_grid):\n",
        "  outer_scores = []\n",
        "\n",
        "  # For each split of the data in the outer cross-validation\n",
        "  # Split method returns indices.\n",
        "  for training_samples, test_samples in outer_cv.split(X, y):\n",
        "    \n",
        "    # Find best paramters using inner CV\n",
        "    best_parms = {}\n",
        "    best_score = -np.inf\n",
        "\n",
        "    # Iterate over parameters\n",
        "    for parameters in parameter_grid:\n",
        "\n",
        "      # Accumulate score over inner splits\n",
        "      cv_scores = []\n",
        "\n",
        "      # Iterate over inner cross-validation\n",
        "      for inner_train, inner_test in inner_cv.split(X[training_samples], y[training_samples]):\n",
        "        clf = Classifier(**parameters)\n",
        "        clf.fit(X[inner_test], y[inner_test])\n",
        "\n",
        "        # Evaluatee on inner test set\n",
        "        score = clf.score(X[inner_test], y[inner_test])\n",
        "        cv_scores.append(score)\n",
        "      \n",
        "      # Compute mean score over inner folds\n",
        "      mean_score = np.mean(cv_scores)\n",
        "\n",
        "      if mean_score > best_score:\n",
        "\n",
        "        # If better than so far, remember parameters\n",
        "        best_score = mean_score\n",
        "        best_params = parameters\n",
        "      \n",
        "    # Build classifier on best parameters using outer training set\n",
        "    clf = Classifier(**best_params)\n",
        "    clf.fit(X[training_samples], y[training_samples])\n",
        "\n",
        "    # Evaluate\n",
        "    outer_scores.append(clf.score(X[test_samples], y[test_samples]))\n",
        "  return np.array(outer_scores)"
      ],
      "execution_count": 21,
      "outputs": []
    },
    {
      "cell_type": "code",
      "metadata": {
        "id": "XHMhc2bbdb-j",
        "colab_type": "code",
        "colab": {
          "base_uri": "https://localhost:8080/",
          "height": 34
        },
        "outputId": "9100f025-36e4-41e7-f963-90799ef26da4"
      },
      "source": [
        "# Running the above function on the iris dataset\n",
        "\n",
        "from sklearn.model_selection import ParameterGrid, StratifiedKFold\n",
        "\n",
        "scores = nested_cv(iris.data, iris.target, StratifiedKFold(5),\n",
        "                   StratifiedKFold(5), SVC, ParameterGrid(param_grid))\n",
        "\n",
        "print(\"Cross validation scores: {}\".format(scores))"
      ],
      "execution_count": 22,
      "outputs": [
        {
          "output_type": "stream",
          "text": [
            "Cross validation scores: [0.96666667 1.         0.9        0.96666667 1.        ]\n"
          ],
          "name": "stdout"
        }
      ]
    },
    {
      "cell_type": "markdown",
      "metadata": {
        "id": "8cEGRv0KeFiE",
        "colab_type": "text"
      },
      "source": [
        "### Parallelizing Cross-Validation and GridSearch"
      ]
    },
    {
      "cell_type": "markdown",
      "metadata": {
        "id": "zKdKI1toeLDm",
        "colab_type": "text"
      },
      "source": [
        "1. Running a grid search over many parameters and on a large datasets can be computationally challenging, it is also embarrassingly parallel.\n",
        "\n",
        "2. Building a model using a particular parameter setting on a particular cross - validation split can be done, completely independently from the other parameter and settings and models.\n",
        "\n",
        "3. Grid Search and CV are ideal candidates for parallelization over multiple CPU cores or over a cluster.\n",
        "\n",
        "4. Make use of multiple cores in GridSearchCV and cross_val_score by setting the **n_jobs** parameter to be the number of CPU cores you want to use.\n",
        "\n",
        "5. You can use **n_jobs=-1** to use all the available cores.\n",
        "\n",
        "6. Scikit-learn does not allow nesting of parallel operations. If you want to use n_jobs option on your model (for example, a random forest), you cannot use it in GridSearchCV to search over your model.\n",
        "\n",
        "7. Always monitor the usage of you memory when building large models in parallel.\n",
        "\n",
        "8. Also possible to parallelize grid search and cross-validation over multiple machines in a cluster, although at the present this is not supported by scikit-learn.\n"
      ]
    }
  ]
}