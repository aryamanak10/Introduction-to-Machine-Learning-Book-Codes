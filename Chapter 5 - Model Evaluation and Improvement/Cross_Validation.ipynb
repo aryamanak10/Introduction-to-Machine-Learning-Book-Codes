{
  "nbformat": 4,
  "nbformat_minor": 0,
  "metadata": {
    "colab": {
      "name": "Cross Validation.ipynb",
      "provenance": [],
      "collapsed_sections": [],
      "authorship_tag": "ABX9TyO8SL2lo5N48CYYTmoEMR4u"
    },
    "kernelspec": {
      "name": "python3",
      "display_name": "Python 3"
    }
  },
  "cells": [
    {
      "cell_type": "code",
      "metadata": {
        "id": "EqyRpjcJkWtF",
        "colab_type": "code",
        "colab": {
          "base_uri": "https://localhost:8080/",
          "height": 34
        },
        "outputId": "1684aac4-fddf-4b9b-cdbc-2957aa74b4b5"
      },
      "source": [
        "from sklearn.datasets import make_blobs\n",
        "from sklearn.linear_model import LogisticRegression\n",
        "from sklearn.model_selection import train_test_split\n",
        "\n",
        "# Creating a Synthetic dataset\n",
        "X, y = make_blobs(random_state=0)\n",
        "\n",
        "# Splitting data and labels into training and testing set\n",
        "X_train, X_test, y_train, y_test = train_test_split(X, y, random_state=0)\n",
        "\n",
        "# Instantiate a model and fit it to the training set\n",
        "logreg = LogisticRegression().fit(X_train, y_train)\n",
        "\n",
        "# Evaluating the model on the test set\n",
        "print(\"Test set sscore: {:.2f}\".format(logreg.score(X_test, y_test)))"
      ],
      "execution_count": 1,
      "outputs": [
        {
          "output_type": "stream",
          "text": [
            "Test set sscore: 0.88\n"
          ],
          "name": "stdout"
        }
      ]
    },
    {
      "cell_type": "code",
      "metadata": {
        "id": "eGkFdKszmCRo",
        "colab_type": "code",
        "colab": {}
      },
      "source": [
        "# Cross Validation is a more robust way to assess generalization.\n",
        "# Methods to evaluate classification and regression performance that go beyond the default measures of accuracy andd R^2 (score method)\n",
        "# Grid Search, effective method for adjusting the parameters in supervised models for the best generalization performance"
      ],
      "execution_count": 2,
      "outputs": []
    },
    {
      "cell_type": "markdown",
      "metadata": {
        "id": "-Vw76k45m4mr",
        "colab_type": "text"
      },
      "source": [
        "## Cross - Validation"
      ]
    },
    {
      "cell_type": "code",
      "metadata": {
        "id": "BVWQvzNPm6bO",
        "colab_type": "code",
        "colab": {}
      },
      "source": [
        "# Data is split repeatedly and multiple models are trained\n",
        "# Commonly used version of cross-validation is k-fold cross validation, where k is a user specified number, usually 5 or 10."
      ],
      "execution_count": 3,
      "outputs": []
    },
    {
      "cell_type": "code",
      "metadata": {
        "id": "3flDM2bLnURE",
        "colab_type": "code",
        "colab": {}
      },
      "source": [
        "# While performing 5-fold cross validation the data is partitioned into 5 parts of approximately equal sizes called 'FOLDS'. Next a\n",
        "# sequence of model is trained. The first model is trained using the first fold as the test set and the remaining fold (2-5) as training\n",
        "# set.\n",
        "\n",
        "# The model is built using data in folds (2-5) and then the accuracy is evaluated on fold 1. The another model is build using fold 2 as\n",
        "# testing set and 1,3,4 and 5 as training set.\n",
        "\n",
        "# This process is repeated using folds 3,4 and 5 as testing set. For each of these five splits of the data into training and testing sets\n",
        "# we calculated the accuracy. In the end we have collected 5 accuracy values."
      ],
      "execution_count": 4,
      "outputs": []
    },
    {
      "cell_type": "code",
      "metadata": {
        "id": "R1ux4KMloio6",
        "colab_type": "code",
        "colab": {
          "base_uri": "https://localhost:8080/",
          "height": 466
        },
        "outputId": "791cffb2-fe34-4d30-9296-38aee76922aa"
      },
      "source": [
        "!pip install mglearn\n",
        "import mglearn\n",
        "\n",
        "mglearn.plots.plot_cross_validation()"
      ],
      "execution_count": 5,
      "outputs": [
        {
          "output_type": "stream",
          "text": [
            "Requirement already satisfied: mglearn in /usr/local/lib/python3.6/dist-packages (0.1.9)\n",
            "Requirement already satisfied: numpy in /usr/local/lib/python3.6/dist-packages (from mglearn) (1.18.5)\n",
            "Requirement already satisfied: joblib in /usr/local/lib/python3.6/dist-packages (from mglearn) (0.16.0)\n",
            "Requirement already satisfied: pillow in /usr/local/lib/python3.6/dist-packages (from mglearn) (7.0.0)\n",
            "Requirement already satisfied: cycler in /usr/local/lib/python3.6/dist-packages (from mglearn) (0.10.0)\n",
            "Requirement already satisfied: imageio in /usr/local/lib/python3.6/dist-packages (from mglearn) (2.4.1)\n",
            "Requirement already satisfied: pandas in /usr/local/lib/python3.6/dist-packages (from mglearn) (1.0.5)\n",
            "Requirement already satisfied: scikit-learn in /usr/local/lib/python3.6/dist-packages (from mglearn) (0.22.2.post1)\n",
            "Requirement already satisfied: matplotlib in /usr/local/lib/python3.6/dist-packages (from mglearn) (3.2.2)\n",
            "Requirement already satisfied: six in /usr/local/lib/python3.6/dist-packages (from cycler->mglearn) (1.12.0)\n",
            "Requirement already satisfied: python-dateutil>=2.6.1 in /usr/local/lib/python3.6/dist-packages (from pandas->mglearn) (2.8.1)\n",
            "Requirement already satisfied: pytz>=2017.2 in /usr/local/lib/python3.6/dist-packages (from pandas->mglearn) (2018.9)\n",
            "Requirement already satisfied: scipy>=0.17.0 in /usr/local/lib/python3.6/dist-packages (from scikit-learn->mglearn) (1.4.1)\n",
            "Requirement already satisfied: kiwisolver>=1.0.1 in /usr/local/lib/python3.6/dist-packages (from matplotlib->mglearn) (1.2.0)\n",
            "Requirement already satisfied: pyparsing!=2.0.4,!=2.1.2,!=2.1.6,>=2.0.1 in /usr/local/lib/python3.6/dist-packages (from matplotlib->mglearn) (2.4.7)\n"
          ],
          "name": "stdout"
        },
        {
          "output_type": "display_data",
          "data": {
            "image/png": "[encoded data removed]",
            "text/plain": [
              "<Figure size 864x144 with 1 Axes>"
            ]
          },
          "metadata": {
            "tags": [],
            "needs_background": "light"
          }
        }
      ]
    },
    {
      "cell_type": "markdown",
      "metadata": {
        "id": "3r544Wpoo4SG",
        "colab_type": "text"
      },
      "source": [
        "### Cross-Validation in scikit-learn"
      ]
    },
    {
      "cell_type": "code",
      "metadata": {
        "id": "2XlRXGdko7yw",
        "colab_type": "code",
        "colab": {}
      },
      "source": [
        "# Parameters of the 'cross_val_score' function are the modell we want to evaluate, the training data, and the ground-truth labels."
      ],
      "execution_count": 6,
      "outputs": []
    },
    {
      "cell_type": "code",
      "metadata": {
        "id": "lQYeoGTmpUh0",
        "colab_type": "code",
        "colab": {
          "base_uri": "https://localhost:8080/",
          "height": 34
        },
        "outputId": "920b4114-d50b-463c-a233-e3793363ec91"
      },
      "source": [
        "from sklearn.datasets import load_iris\n",
        "from sklearn.model_selection import cross_val_score\n",
        "from sklearn.linear_model import LogisticRegression\n",
        "\n",
        "iris = load_iris()\n",
        "logreg = LogisticRegression(max_iter=142)\n",
        "\n",
        "scores = cross_val_score(logreg, iris.data, iris.target)\n",
        "print(\"Cross-validation scores: {}\".format(scores))"
      ],
      "execution_count": 7,
      "outputs": [
        {
          "output_type": "stream",
          "text": [
            "Cross-validation scores: [0.96666667 1.         0.93333333 0.96666667 1.        ]\n"
          ],
          "name": "stdout"
        }
      ]
    },
    {
      "cell_type": "code",
      "metadata": {
        "id": "xh5Rb6xdp_67",
        "colab_type": "code",
        "colab": {
          "base_uri": "https://localhost:8080/",
          "height": 34
        },
        "outputId": "bce70136-76fd-4f0d-ab42-c6b5d5e763e0"
      },
      "source": [
        "# By-default cross validation performs five-fold cross validation, returning 5 accuracy values. We can change the folds by changing the\n",
        "# cv parameter.\n",
        "\n",
        "scores = cross_val_score(logreg, iris.data, iris.target, cv=3)\n",
        "print(\"Cross-validation scores: {}\".format(scores))"
      ],
      "execution_count": 8,
      "outputs": [
        {
          "output_type": "stream",
          "text": [
            "Cross-validation scores: [0.98 0.96 0.98]\n"
          ],
          "name": "stdout"
        }
      ]
    },
    {
      "cell_type": "code",
      "metadata": {
        "id": "9utJLstNqpjR",
        "colab_type": "code",
        "colab": {
          "base_uri": "https://localhost:8080/",
          "height": 34
        },
        "outputId": "1b320f30-a27f-4fa1-a332-34b38f7da12c"
      },
      "source": [
        "# Computing the mean of the cross-validation score\n",
        "\n",
        "print(\"Average cross-validation socre: {:.2f}\".format(scores.mean()))"
      ],
      "execution_count": 9,
      "outputs": [
        {
          "output_type": "stream",
          "text": [
            "Average cross-validation socre: 0.97\n"
          ],
          "name": "stdout"
        }
      ]
    },
    {
      "cell_type": "code",
      "metadata": {
        "id": "dU-Q2Ja9y6PQ",
        "colab_type": "code",
        "colab": {}
      },
      "source": [
        "# We expect the model to be around 97% accurate on average. Looking at the five accuravy score we can see a high variance in the accuracy\n",
        "# between folds, ranging from 100% to 93%. This implies that the model is very dependent on the particular folds use for training but it\n",
        "# could also be the consequence of the small size of the dataset."
      ],
      "execution_count": 10,
      "outputs": []
    },
    {
      "cell_type": "markdown",
      "metadata": {
        "id": "dzj-w7oGziAZ",
        "colab_type": "text"
      },
      "source": [
        "### Benefits of Cross-Validation"
      ]
    },
    {
      "cell_type": "markdown",
      "metadata": {
        "id": "xBGKCluNzkxV",
        "colab_type": "text"
      },
      "source": [
        "\n",
        "\n",
        "1. Having multiple splits of the data also provides some information about how sensitive our model is to the selection of the training dataset. This shows us the worst case and the best case scenario of the model when applied to a new data\n",
        "2. We use our data more effectively. When using cross-validation we use 80% of training data and 20% of testing data while in train_test_split we using 75% and 25% dataset respectively. More data will usually result in more accurate models."
      ]
    },
    {
      "cell_type": "markdown",
      "metadata": {
        "id": "l38RMRsfBBff",
        "colab_type": "text"
      },
      "source": [
        "### Disadvantage of Cross-Validation"
      ]
    },
    {
      "cell_type": "markdown",
      "metadata": {
        "id": "811_IQqXBFvW",
        "colab_type": "text"
      },
      "source": [
        "\n",
        "\n",
        "1. Increased Computational Cost. As now we are training **k** models instead of a single model, cross validation will be roughly k times slower than doing a singlee split of the data.\n",
        "\n"
      ]
    },
    {
      "cell_type": "markdown",
      "metadata": {
        "id": "cSYVaz1ZBkgM",
        "colab_type": "text"
      },
      "source": [
        "## TIP"
      ]
    },
    {
      "cell_type": "markdown",
      "metadata": {
        "id": "ALqRhTU5BmE5",
        "colab_type": "text"
      },
      "source": [
        "Cross validation is not a way to build a model that can be applied to new data. **Cross - Validation does not return a model**.\n",
        "\n",
        "When calling cross_val_score, multiple model are build internally, but the purpose of cross-validation is only to evaluate how well a given algorithm will generalize when trained on a specific dataset. "
      ]
    }
  ]
}