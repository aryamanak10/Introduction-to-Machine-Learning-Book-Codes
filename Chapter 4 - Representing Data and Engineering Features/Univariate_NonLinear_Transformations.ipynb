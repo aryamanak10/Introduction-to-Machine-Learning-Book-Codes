{
  "nbformat": 4,
  "nbformat_minor": 0,
  "metadata": {
    "colab": {
      "name": "Univariate NonLinear Transformations.ipynb",
      "provenance": [],
      "collapsed_sections": [],
      "authorship_tag": "ABX9TyNbABdAvf3eCfnK0/1jTaSN"
    },
    "kernelspec": {
      "name": "python3",
      "display_name": "Python 3"
    }
  },
  "cells": [
    {
      "cell_type": "markdown",
      "metadata": {
        "id": "ipazFm17d8tx",
        "colab_type": "text"
      },
      "source": [
        "## Univariate Non-Linear Transformations"
      ]
    },
    {
      "cell_type": "code",
      "metadata": {
        "id": "DGsktvCtObi4",
        "colab_type": "code",
        "colab": {}
      },
      "source": [
        "# Using function like log, sin, exp to transform the relations between the feature and target as a linear one so that it helps the\n",
        "# Regression and Neural Network Models\n",
        "\n",
        "import numpy as np\n",
        "\n",
        "rnd = np.random.RandomState(0)\n",
        "X_org = rnd.normal(size=(1000, 3))\n",
        "w = rnd.normal(size=3)\n",
        "\n",
        "X = rnd.poisson(10 * np.exp(X_org))\n",
        "y = np.dot(X_org, w)"
      ],
      "execution_count": 1,
      "outputs": []
    },
    {
      "cell_type": "code",
      "metadata": {
        "id": "gGeR5twsPdo7",
        "colab_type": "code",
        "colab": {
          "base_uri": "https://localhost:8080/",
          "height": 138
        },
        "outputId": "0f7d9ed8-edbc-44d7-bff2-ce6c6caa0908"
      },
      "source": [
        "print(\"Number of feature appearances:\\n{}\".format(np.bincount(X[:, 0])))"
      ],
      "execution_count": 2,
      "outputs": [
        {
          "output_type": "stream",
          "text": [
            "Number of feature appearances:\n",
            "[28 38 68 48 61 59 45 56 37 40 35 34 36 26 23 26 27 21 23 23 18 21 10  9\n",
            " 17  9  7 14 12  7  3  8  4  5  5  3  4  2  4  1  1  3  2  5  3  8  2  5\n",
            "  2  1  2  3  3  2  2  3  3  0  1  2  1  0  0  3  1  0  0  0  1  3  0  1\n",
            "  0  2  0  1  1  0  0  0  0  1  0  0  2  2  0  1  1  0  0  0  0  1  1  0\n",
            "  0  0  0  0  0  0  1  0  0  0  0  0  1  1  0  0  1  0  0  0  0  0  0  0\n",
            "  1  0  0  0  0  1  0  0  0  0  0  0  0  0  0  0  0  0  0  0  1]\n"
          ],
          "name": "stdout"
        }
      ]
    },
    {
      "cell_type": "code",
      "metadata": {
        "id": "Mygvoj6sPyS8",
        "colab_type": "code",
        "colab": {
          "base_uri": "https://localhost:8080/",
          "height": 296
        },
        "outputId": "a492a2d0-de73-486c-ffba-b63c43c0cda3"
      },
      "source": [
        "import matplotlib.pyplot as plt\n",
        "\n",
        "bins = np.bincount(X[:, 0])\n",
        "plt.bar(range(len(bins)), bins, color='r')\n",
        "plt.ylabel(\"Number of appearances\")\n",
        "plt.xlabel(\"Value\")"
      ],
      "execution_count": 3,
      "outputs": [
        {
          "output_type": "execute_result",
          "data": {
            "text/plain": [
              "Text(0.5, 0, 'Value')"
            ]
          },
          "metadata": {
            "tags": []
          },
          "execution_count": 3
        },
        {
          "output_type": "display_data",
          "data": {
            "image/png": "[encoded data removed]",
            "text/plain": [
              "<Figure size 432x288 with 1 Axes>"
            ]
          },
          "metadata": {
            "tags": [],
            "needs_background": "light"
          }
        }
      ]
    },
    {
      "cell_type": "code",
      "metadata": {
        "id": "o_E0zO6BPNDY",
        "colab_type": "code",
        "colab": {
          "base_uri": "https://localhost:8080/",
          "height": 34
        },
        "outputId": "2de1558e-068e-468b-b6da-9529e11ef9bb"
      },
      "source": [
        "# Linear Models can't handle this kind of distributions where there are many small ones and a few very large ones. But this kind of \n",
        "# distributions is quite normal.\n",
        "\n",
        "from sklearn.model_selection import train_test_split\n",
        "from sklearn.linear_model import Ridge\n",
        "\n",
        "X_train, X_test, y_train, y_test = train_test_split(X, y, random_state=0)\n",
        "score = Ridge().fit(X_train, y_train).score(X_test, y_test)\n",
        "print(\"Test score: {:.3f}\".format(score))"
      ],
      "execution_count": 5,
      "outputs": [
        {
          "output_type": "stream",
          "text": [
            "Test score: 0.622\n"
          ],
          "name": "stdout"
        }
      ]
    },
    {
      "cell_type": "code",
      "metadata": {
        "id": "PmulxQ5VPya7",
        "colab_type": "code",
        "colab": {}
      },
      "source": [
        "# The low R^2 score implies that the Ridge Regression could not capture the relationship between X and y. Applying a logarithmic \n",
        "# transformation can help. We have to compute log(X+1) because log(0) is not defined\n",
        "\n",
        "X_train_log = np.log(X_train + 1)\n",
        "X_test_log = np.log(X_test + 1)"
      ],
      "execution_count": 6,
      "outputs": []
    },
    {
      "cell_type": "code",
      "metadata": {
        "id": "kITh2iGDcV9E",
        "colab_type": "code",
        "colab": {
          "base_uri": "https://localhost:8080/",
          "height": 296
        },
        "outputId": "2f16e255-99c7-4ef8-f5e8-291d62469767"
      },
      "source": [
        "# After the transformatin the distribution of the data is less asymmetrical and does not have very large outliers.\n",
        "\n",
        "plt.hist(np.log(X_train_log[:, 0] + 1), bins=25, color='gray')\n",
        "plt.ylabel(\"Number of Appearance\")\n",
        "plt.xlabel(\"Value\")"
      ],
      "execution_count": 7,
      "outputs": [
        {
          "output_type": "execute_result",
          "data": {
            "text/plain": [
              "Text(0.5, 0, 'Value')"
            ]
          },
          "metadata": {
            "tags": []
          },
          "execution_count": 7
        },
        {
          "output_type": "display_data",
          "data": {
            "image/png": "[encoded data removed]",
            "text/plain": [
              "<Figure size 432x288 with 1 Axes>"
            ]
          },
          "metadata": {
            "tags": [],
            "needs_background": "light"
          }
        }
      ]
    },
    {
      "cell_type": "code",
      "metadata": {
        "id": "w65ehd5rcq0k",
        "colab_type": "code",
        "colab": {
          "base_uri": "https://localhost:8080/",
          "height": 34
        },
        "outputId": "98f0d991-4f2b-4b61-9fec-6043b96af5d8"
      },
      "source": [
        "# Building a Ridge model on the new data provides a much better fit.\n",
        "\n",
        "score = Ridge().fit(X_train_log, y_train).score(X_test_log, y_test)\n",
        "print(\"Test Score: {:.3f}\".format(score))"
      ],
      "execution_count": 8,
      "outputs": [
        {
          "output_type": "stream",
          "text": [
            "Test Score: 0.875\n"
          ],
          "name": "stdout"
        }
      ]
    },
    {
      "cell_type": "code",
      "metadata": {
        "id": "P-AfVl2GdOh3",
        "colab_type": "code",
        "colab": {}
      },
      "source": [
        "# Finding the transformation that works best on the model is an art. All the features had the same properties therefore we appied\n",
        "# log transformations. But this is not always the case in the real world. \n",
        "\n",
        "# Read Page 189 to get a more Detailed Idea of where to apply these transformations and where not to."
      ],
      "execution_count": 9,
      "outputs": []
    }
  ]
}