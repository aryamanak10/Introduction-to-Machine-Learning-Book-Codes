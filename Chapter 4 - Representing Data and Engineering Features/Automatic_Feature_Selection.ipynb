{
  "nbformat": 4,
  "nbformat_minor": 0,
  "metadata": {
    "colab": {
      "name": "Automatic Feature Selection.ipynb",
      "provenance": [],
      "collapsed_sections": [],
      "authorship_tag": "ABX9TyMSJkf80UJTtd9q5dVxcyYY"
    },
    "kernelspec": {
      "name": "python3",
      "display_name": "Python 3"
    }
  },
  "cells": [
    {
      "cell_type": "markdown",
      "metadata": {
        "id": "ticFx-_peeyD",
        "colab_type": "text"
      },
      "source": [
        "## Automatic Feature Selection"
      ]
    },
    {
      "cell_type": "code",
      "metadata": {
        "id": "6rs0f0ooea4K",
        "colab_type": "code",
        "colab": {}
      },
      "source": [
        "# All the three methods discussed here are for supervised learning algorithm so they need a target for fitting. This means we need to\n",
        "# split the data set into training and test sets and fit the feature selection only on the training part of the data.\n",
        "\n",
        "# Automatic Feature Selection helps us to retain those feature which are the best for our model results. Instead of increasing the number\n",
        "# of features theey decrease it to optimal features using three different strategies"
      ],
      "execution_count": 1,
      "outputs": []
    },
    {
      "cell_type": "markdown",
      "metadata": {
        "id": "f_kKd9Fbfkwg",
        "colab_type": "text"
      },
      "source": [
        "### Univariate Statistics"
      ]
    },
    {
      "cell_type": "code",
      "metadata": {
        "id": "exvpl-egfjnh",
        "colab_type": "code",
        "colab": {}
      },
      "source": [
        "# Computing statistically significant relationship between feature and the target.\n",
        "# Features with highest confidence are selected.\n",
        "# In classification, this is knows as Analysis of Variance.\n",
        "# Key Property of this tests are that they are univarite, meaning each feature is considered individually.\n",
        "# A feature will be discarded if it is 'ONLY' informative when combined with other feature.\n",
        "\n",
        "# These test are often fast to compute and do not require building the model. They are also ccompletely independent of the model that \n",
        "# you might want to apply after the feature selection"
      ],
      "execution_count": 2,
      "outputs": []
    },
    {
      "cell_type": "code",
      "metadata": {
        "id": "AC5RTzI7hBtL",
        "colab_type": "code",
        "colab": {}
      },
      "source": [
        "# To use univariate selection in scikit learn, you need to choose a test.\n",
        "\n",
        "# Classification - f_classif (default), Regression - f_regression and a method to discard the features based on the p-values determined\n",
        "# in the test.\n",
        "\n",
        "# All methods for discarding the parameters use a threshold to discard all features with too high p-values(which mean they are unlikely\n",
        "# to be related to the target)\n",
        "\n",
        "# These methods differ in how they compute this threshold, with the simplest being SelectKBest, which selects fixed number of K-features\n",
        "\n",
        "# SelectPercentile which select a fixed percentage of features"
      ],
      "execution_count": 3,
      "outputs": []
    },
    {
      "cell_type": "code",
      "metadata": {
        "id": "bAa3zNaUjyH5",
        "colab_type": "code",
        "colab": {}
      },
      "source": [
        "# We are adding some non-informative noise in the cancer dataset. We will then apply the feature selection and we expect it to identify\n",
        "# the features that are non-informative and remove them."
      ],
      "execution_count": 4,
      "outputs": []
    },
    {
      "cell_type": "code",
      "metadata": {
        "id": "OTGjQXdVkFqr",
        "colab_type": "code",
        "colab": {
          "base_uri": "https://localhost:8080/",
          "height": 52
        },
        "outputId": "17da72c7-f89f-40aa-9afb-3f42b621e285"
      },
      "source": [
        "from sklearn.datasets import load_breast_cancer\n",
        "from sklearn.feature_selection import SelectPercentile\n",
        "from sklearn.model_selection import train_test_split\n",
        "import numpy as np\n",
        "\n",
        "cancer = load_breast_cancer()\n",
        "\n",
        "# Getting Deterministic Random Numbers\n",
        "rng = np.random.RandomState(42)\n",
        "noise = rng.normal(size=(len(cancer.data), 50))\n",
        "\n",
        "# Adding noise features to the data, First 30 features are from dataset and next 50 are noise\n",
        "X_w_noise = np.hstack([cancer.data, noise])\n",
        "\n",
        "X_train, X_test, y_train, y_test = train_test_split(X_w_noise, cancer.target, random_state=0, test_size=0.5)\n",
        "\n",
        "# Using f_classif (the default) and SelectPercentile to select 50% of the features\n",
        "select = SelectPercentile(percentile=50)\n",
        "select.fit(X_train, y_train)\n",
        "\n",
        "# Tranforming the training set\n",
        "X_train_selected = select.transform(X_train)\n",
        "\n",
        "print(\"X_train shape: {}\".format(X_train.shape))\n",
        "print(\"X_train_selected shape: {}\".format(X_train_selected.shape))"
      ],
      "execution_count": 5,
      "outputs": [
        {
          "output_type": "stream",
          "text": [
            "X_train shape: (284, 80)\n",
            "X_train_selected shape: (284, 40)\n"
          ],
          "name": "stdout"
        }
      ]
    },
    {
      "cell_type": "code",
      "metadata": {
        "id": "_vQMrT7Zliox",
        "colab_type": "code",
        "colab": {
          "base_uri": "https://localhost:8080/",
          "height": 211
        },
        "outputId": "c476b5ff-9b27-4e7a-d936-e0a1904d52f4"
      },
      "source": [
        "# As you can see the number of features were reduced from 80 to 40 which is by 50%. To get the features that have been selected we use\n",
        "# get_support method, which returns a Boolean Mask of the selected Features.\n",
        "\n",
        "mask = select.get_support()\n",
        "print(mask)\n",
        "\n",
        "# Visualizing the mask -- Black is True and White is False\n",
        "import matplotlib.pyplot as plt\n",
        "\n",
        "plt.matshow(mask.reshape(1, -1), cmap='gray_r')\n",
        "plt.xlabel(\"Sample Index\")"
      ],
      "execution_count": 6,
      "outputs": [
        {
          "output_type": "stream",
          "text": [
            "[ True  True  True  True  True  True  True  True  True False  True False\n",
            "  True  True  True  True  True  True False False  True  True  True  True\n",
            "  True  True  True  True  True  True False False False  True False  True\n",
            " False False  True False False False False  True False False  True False\n",
            " False  True False  True False False False False False False  True False\n",
            "  True False False False False  True False  True False False False False\n",
            "  True  True False  True False False False False]\n"
          ],
          "name": "stdout"
        },
        {
          "output_type": "execute_result",
          "data": {
            "text/plain": [
              "Text(0.5, 0, 'Sample Index')"
            ]
          },
          "metadata": {
            "tags": []
          },
          "execution_count": 6
        },
        {
          "output_type": "display_data",
          "data": {
            "image/png": "[encoded data removed]",
            "text/plain": [
              "<Figure size 1152x144 with 1 Axes>"
            ]
          },
          "metadata": {
            "tags": [],
            "needs_background": "light"
          }
        }
      ]
    },
    {
      "cell_type": "code",
      "metadata": {
        "id": "kOF8SMXrmFvb",
        "colab_type": "code",
        "colab": {
          "base_uri": "https://localhost:8080/",
          "height": 328
        },
        "outputId": "592adbb7-7f57-4530-8a40-cc9656ece8ad"
      },
      "source": [
        "# As you can see most of the original features were retained and the noise features were removed but not all the original features were\n",
        "# retained. \n",
        "\n",
        "# Now we will compare the performance of Logisitic Regression on all the features against the selected features.\n",
        "\n",
        "from sklearn.linear_model import LogisticRegression\n",
        "\n",
        "# Transforming the test data\n",
        "X_test_selected = select.transform(X_test)\n",
        "\n",
        "lr = LogisticRegression()\n",
        "lr.fit(X_train, y_train)\n",
        "print(\"Score with all features: {:.3f}\".format(lr.score(X_test, y_test)))\n",
        "\n",
        "lr.fit(X_train_selected, y_train)\n",
        "print(\"Score with selected features: {:.3f}\".format(lr.score(X_test_selected, y_test)))"
      ],
      "execution_count": 7,
      "outputs": [
        {
          "output_type": "stream",
          "text": [
            "Score with all features: 0.916\n",
            "Score with selected features: 0.919\n"
          ],
          "name": "stdout"
        },
        {
          "output_type": "stream",
          "text": [
            "/usr/local/lib/python3.6/dist-packages/sklearn/linear_model/_logistic.py:940: ConvergenceWarning: lbfgs failed to converge (status=1):\n",
            "STOP: TOTAL NO. of ITERATIONS REACHED LIMIT.\n",
            "\n",
            "Increase the number of iterations (max_iter) or scale the data as shown in:\n",
            "    https://scikit-learn.org/stable/modules/preprocessing.html\n",
            "Please also refer to the documentation for alternative solver options:\n",
            "    https://scikit-learn.org/stable/modules/linear_model.html#logistic-regression\n",
            "  extra_warning_msg=_LOGISTIC_SOLVER_CONVERGENCE_MSG)\n",
            "/usr/local/lib/python3.6/dist-packages/sklearn/linear_model/_logistic.py:940: ConvergenceWarning: lbfgs failed to converge (status=1):\n",
            "STOP: TOTAL NO. of ITERATIONS REACHED LIMIT.\n",
            "\n",
            "Increase the number of iterations (max_iter) or scale the data as shown in:\n",
            "    https://scikit-learn.org/stable/modules/preprocessing.html\n",
            "Please also refer to the documentation for alternative solver options:\n",
            "    https://scikit-learn.org/stable/modules/linear_model.html#logistic-regression\n",
            "  extra_warning_msg=_LOGISTIC_SOLVER_CONVERGENCE_MSG)\n"
          ],
          "name": "stderr"
        }
      ]
    },
    {
      "cell_type": "code",
      "metadata": {
        "id": "AU0-DPFHnLz_",
        "colab_type": "code",
        "colab": {}
      },
      "source": [
        "# As you can see the score with only the selected features is higher than the one with all the features. Hence it was able to remove the \n",
        "# noise but during this procedure it also removed some of the original features.\n",
        "\n",
        "# UniVariate feature selection can still be very helpful if there is such a large number of features that building a model on them is \n",
        "# infeasible or if you suspect that many features are completely uninformative."
      ],
      "execution_count": 8,
      "outputs": []
    }
  ]
}