{
  "nbformat": 4,
  "nbformat_minor": 0,
  "metadata": {
    "colab": {
      "name": "Automatic Feature Selection.ipynb",
      "provenance": [],
      "collapsed_sections": [],
      "authorship_tag": "ABX9TyMgK21vVoSdboVhS8skHlHY"
    },
    "kernelspec": {
      "name": "python3",
      "display_name": "Python 3"
    }
  },
  "cells": [
    {
      "cell_type": "markdown",
      "metadata": {
        "id": "ticFx-_peeyD",
        "colab_type": "text"
      },
      "source": [
        "## Automatic Feature Selection"
      ]
    },
    {
      "cell_type": "code",
      "metadata": {
        "id": "6rs0f0ooea4K",
        "colab_type": "code",
        "colab": {}
      },
      "source": [
        "# All the three methods discussed here are for supervised learning algorithm so they need a target for fitting. This means we need to\n",
        "# split the data set into training and test sets and fit the feature selection only on the training part of the data.\n",
        "\n",
        "# Automatic Feature Selection helps us to retain those feature which are the best for our model results. Instead of increasing the number\n",
        "# of features theey decrease it to optimal features using three different strategies"
      ],
      "execution_count": 1,
      "outputs": []
    },
    {
      "cell_type": "markdown",
      "metadata": {
        "id": "f_kKd9Fbfkwg",
        "colab_type": "text"
      },
      "source": [
        "### Univariate Statistics"
      ]
    },
    {
      "cell_type": "code",
      "metadata": {
        "id": "exvpl-egfjnh",
        "colab_type": "code",
        "colab": {}
      },
      "source": [
        "# Computing statistically significant relationship between feature and the target.\n",
        "# Features with highest confidence are selected.\n",
        "# In classification, this is knows as Analysis of Variance.\n",
        "# Key Property of this tests are that they are univarite, meaning each feature is considered individually.\n",
        "# A feature will be discarded if it is 'ONLY' informative when combined with other feature.\n",
        "\n",
        "# These test are often fast to compute and do not require building the model. They are also ccompletely independent of the model that \n",
        "# you might want to apply after the feature selection"
      ],
      "execution_count": 2,
      "outputs": []
    },
    {
      "cell_type": "code",
      "metadata": {
        "id": "AC5RTzI7hBtL",
        "colab_type": "code",
        "colab": {}
      },
      "source": [
        "# To use univariate selection in scikit learn, you need to choose a test.\n",
        "\n",
        "# Classification - f_classif (default), Regression - f_regression and a method to discard the features based on the p-values determined\n",
        "# in the test.\n",
        "\n",
        "# All methods for discarding the parameters use a threshold to discard all features with too high p-values(which mean they are unlikely\n",
        "# to be related to the target)\n",
        "\n",
        "# These methods differ in how they compute this threshold, with the simplest being SelectKBest, which selects fixed number of K-features\n",
        "\n",
        "# SelectPercentile which select a fixed percentage of features"
      ],
      "execution_count": 3,
      "outputs": []
    },
    {
      "cell_type": "code",
      "metadata": {
        "id": "bAa3zNaUjyH5",
        "colab_type": "code",
        "colab": {}
      },
      "source": [
        "# We are adding some non-informative noise in the cancer dataset. We will then apply the feature selection and we expect it to identify\n",
        "# the features that are non-informative and remove them."
      ],
      "execution_count": 4,
      "outputs": []
    },
    {
      "cell_type": "code",
      "metadata": {
        "id": "OTGjQXdVkFqr",
        "colab_type": "code",
        "colab": {
          "base_uri": "https://localhost:8080/",
          "height": 52
        },
        "outputId": "17da72c7-f89f-40aa-9afb-3f42b621e285"
      },
      "source": [
        "from sklearn.datasets import load_breast_cancer\n",
        "from sklearn.feature_selection import SelectPercentile\n",
        "from sklearn.model_selection import train_test_split\n",
        "import numpy as np\n",
        "\n",
        "cancer = load_breast_cancer()\n",
        "\n",
        "# Getting Deterministic Random Numbers\n",
        "rng = np.random.RandomState(42)\n",
        "noise = rng.normal(size=(len(cancer.data), 50))\n",
        "\n",
        "# Adding noise features to the data, First 30 features are from dataset and next 50 are noise\n",
        "X_w_noise = np.hstack([cancer.data, noise])\n",
        "\n",
        "X_train, X_test, y_train, y_test = train_test_split(X_w_noise, cancer.target, random_state=0, test_size=0.5)\n",
        "\n",
        "# Using f_classif (the default) and SelectPercentile to select 50% of the features\n",
        "select = SelectPercentile(percentile=50)\n",
        "select.fit(X_train, y_train)\n",
        "\n",
        "# Tranforming the training set\n",
        "X_train_selected = select.transform(X_train)\n",
        "\n",
        "print(\"X_train shape: {}\".format(X_train.shape))\n",
        "print(\"X_train_selected shape: {}\".format(X_train_selected.shape))"
      ],
      "execution_count": 5,
      "outputs": [
        {
          "output_type": "stream",
          "text": [
            "X_train shape: (284, 80)\n",
            "X_train_selected shape: (284, 40)\n"
          ],
          "name": "stdout"
        }
      ]
    },
    {
      "cell_type": "code",
      "metadata": {
        "id": "_vQMrT7Zliox",
        "colab_type": "code",
        "colab": {
          "base_uri": "https://localhost:8080/",
          "height": 211
        },
        "outputId": "c476b5ff-9b27-4e7a-d936-e0a1904d52f4"
      },
      "source": [
        "# As you can see the number of features were reduced from 80 to 40 which is by 50%. To get the features that have been selected we use\n",
        "# get_support method, which returns a Boolean Mask of the selected Features.\n",
        "\n",
        "mask = select.get_support()\n",
        "print(mask)\n",
        "\n",
        "# Visualizing the mask -- Black is True and White is False\n",
        "import matplotlib.pyplot as plt\n",
        "\n",
        "plt.matshow(mask.reshape(1, -1), cmap='gray_r')\n",
        "plt.xlabel(\"Sample Index\")"
      ],
      "execution_count": 6,
      "outputs": [
        {
          "output_type": "stream",
          "text": [
            "[ True  True  True  True  True  True  True  True  True False  True False\n",
            "  True  True  True  True  True  True False False  True  True  True  True\n",
            "  True  True  True  True  True  True False False False  True False  True\n",
            " False False  True False False False False  True False False  True False\n",
            " False  True False  True False False False False False False  True False\n",
            "  True False False False False  True False  True False False False False\n",
            "  True  True False  True False False False False]\n"
          ],
          "name": "stdout"
        },
        {
          "output_type": "execute_result",
          "data": {
            "text/plain": [
              "Text(0.5, 0, 'Sample Index')"
            ]
          },
          "metadata": {
            "tags": []
          },
          "execution_count": 6
        },
        {
          "output_type": "display_data",
          "data": {
            "image/png": "[encoded data removed]",
            "text/plain": [
              "<Figure size 1152x144 with 1 Axes>"
            ]
          },
          "metadata": {
            "tags": [],
            "needs_background": "light"
          }
        }
      ]
    },
    {
      "cell_type": "code",
      "metadata": {
        "id": "kOF8SMXrmFvb",
        "colab_type": "code",
        "colab": {
          "base_uri": "https://localhost:8080/",
          "height": 328
        },
        "outputId": "592adbb7-7f57-4530-8a40-cc9656ece8ad"
      },
      "source": [
        "# As you can see most of the original features were retained and the noise features were removed but not all the original features were\n",
        "# retained. \n",
        "\n",
        "# Now we will compare the performance of Logisitic Regression on all the features against the selected features.\n",
        "\n",
        "from sklearn.linear_model import LogisticRegression\n",
        "\n",
        "# Transforming the test data\n",
        "X_test_selected = select.transform(X_test)\n",
        "\n",
        "lr = LogisticRegression()\n",
        "lr.fit(X_train, y_train)\n",
        "print(\"Score with all features: {:.3f}\".format(lr.score(X_test, y_test)))\n",
        "\n",
        "lr.fit(X_train_selected, y_train)\n",
        "print(\"Score with selected features: {:.3f}\".format(lr.score(X_test_selected, y_test)))"
      ],
      "execution_count": 7,
      "outputs": [
        {
          "output_type": "stream",
          "text": [
            "Score with all features: 0.916\n",
            "Score with selected features: 0.919\n"
          ],
          "name": "stdout"
        },
        {
          "output_type": "stream",
          "text": [
            "/usr/local/lib/python3.6/dist-packages/sklearn/linear_model/_logistic.py:940: ConvergenceWarning: lbfgs failed to converge (status=1):\n",
            "STOP: TOTAL NO. of ITERATIONS REACHED LIMIT.\n",
            "\n",
            "Increase the number of iterations (max_iter) or scale the data as shown in:\n",
            "    https://scikit-learn.org/stable/modules/preprocessing.html\n",
            "Please also refer to the documentation for alternative solver options:\n",
            "    https://scikit-learn.org/stable/modules/linear_model.html#logistic-regression\n",
            "  extra_warning_msg=_LOGISTIC_SOLVER_CONVERGENCE_MSG)\n",
            "/usr/local/lib/python3.6/dist-packages/sklearn/linear_model/_logistic.py:940: ConvergenceWarning: lbfgs failed to converge (status=1):\n",
            "STOP: TOTAL NO. of ITERATIONS REACHED LIMIT.\n",
            "\n",
            "Increase the number of iterations (max_iter) or scale the data as shown in:\n",
            "    https://scikit-learn.org/stable/modules/preprocessing.html\n",
            "Please also refer to the documentation for alternative solver options:\n",
            "    https://scikit-learn.org/stable/modules/linear_model.html#logistic-regression\n",
            "  extra_warning_msg=_LOGISTIC_SOLVER_CONVERGENCE_MSG)\n"
          ],
          "name": "stderr"
        }
      ]
    },
    {
      "cell_type": "code",
      "metadata": {
        "id": "AU0-DPFHnLz_",
        "colab_type": "code",
        "colab": {}
      },
      "source": [
        "# As you can see the score with only the selected features is higher than the one with all the features. Hence it was able to remove the \n",
        "# noise but during this procedure it also removed some of the original features.\n",
        "\n",
        "# UniVariate feature selection can still be very helpful if there is such a large number of features that building a model on them is \n",
        "# infeasible or if you suspect that many features are completely uninformative."
      ],
      "execution_count": 8,
      "outputs": []
    },
    {
      "cell_type": "markdown",
      "metadata": {
        "id": "VlBUTRGJwZ7n",
        "colab_type": "text"
      },
      "source": [
        "### Model-Based Feature Selection"
      ]
    },
    {
      "cell_type": "code",
      "metadata": {
        "id": "42vig92ZwfI4",
        "colab_type": "code",
        "colab": {}
      },
      "source": [
        "# Uses a supervised ML model to judge the importance of each feature, and keeps only the important ones.\n",
        "# The supervised model used for feature selection does not need to be the same model that is used for the final supervised modelling.\n",
        "# The feature selection model need to provide some measure of importance for each feature so that they can be ranked by this measure.\n",
        "\n",
        "# Decision Tree and its type models provide a feature_importances_ attribute which directly encodes the importance of each feature.\n",
        "# Linear model have coefficient which can also be used to capture feature importances by considering the absolute values.\n",
        "\n",
        "# In contrast to univariate selection, model based selection considers all features at once, so it can capture interactions(by model)."
      ],
      "execution_count": 9,
      "outputs": []
    },
    {
      "cell_type": "code",
      "metadata": {
        "id": "jlH1i1vkyGYA",
        "colab_type": "code",
        "colab": {}
      },
      "source": [
        "from sklearn.feature_selection import SelectFromModel\n",
        "from sklearn.ensemble import RandomForestClassifier\n",
        "\n",
        "select = SelectFromModel(RandomForestClassifier(n_estimators=100, random_state=42), threshold=\"median\")"
      ],
      "execution_count": 10,
      "outputs": []
    },
    {
      "cell_type": "code",
      "metadata": {
        "id": "EvJty01qyYu6",
        "colab_type": "code",
        "colab": {}
      },
      "source": [
        "# The SelectFromModel class selects all the features that have an importance measure of the feature (as provided by the supervised model).\n",
        "# To get a comparable result with univariate F.S we used the median as a thresold so half of the feature will be selected.\n",
        "# This is quite complex model and much more powerful than using univariate tests."
      ],
      "execution_count": 11,
      "outputs": []
    },
    {
      "cell_type": "code",
      "metadata": {
        "id": "XBszrv1o8SGU",
        "colab_type": "code",
        "colab": {
          "base_uri": "https://localhost:8080/",
          "height": 52
        },
        "outputId": "43adb64d-0b59-40a4-dddf-af1d42ad2f4c"
      },
      "source": [
        "# Now we will actually fit the model.\n",
        "\n",
        "select.fit(X_train, y_train)\n",
        "X_train_l1 = select.transform(X_train)\n",
        "print(\"X_train shape: {}\".format(X_train.shape))\n",
        "print(\"X_train_l1 shape: {}\".format(X_train_l1.shape))"
      ],
      "execution_count": 12,
      "outputs": [
        {
          "output_type": "stream",
          "text": [
            "X_train shape: (284, 80)\n",
            "X_train_l1 shape: (284, 40)\n"
          ],
          "name": "stdout"
        }
      ]
    },
    {
      "cell_type": "code",
      "metadata": {
        "id": "8491KiA98lLw",
        "colab_type": "code",
        "colab": {
          "base_uri": "https://localhost:8080/",
          "height": 90
        },
        "outputId": "4fd23141-58d8-45a0-cabd-7967b20b1609"
      },
      "source": [
        "# Looking at the features that were selected using mask\n",
        "mask = select.get_support()\n",
        "\n",
        "# Visualizing the mask -- Black is True and White is False\n",
        "plt.matshow(mask.reshape(1, -1), cmap='gray_r')\n",
        "plt.xlabel(\"Sample Index\")"
      ],
      "execution_count": 13,
      "outputs": [
        {
          "output_type": "execute_result",
          "data": {
            "text/plain": [
              "Text(0.5, 0, 'Sample Index')"
            ]
          },
          "metadata": {
            "tags": []
          },
          "execution_count": 13
        },
        {
          "output_type": "display_data",
          "data": {
            "image/png": "[encoded data removed]",
            "text/plain": [
              "<Figure size 1152x144 with 1 Axes>"
            ]
          },
          "metadata": {
            "tags": [],
            "needs_background": "light"
          }
        }
      ]
    },
    {
      "cell_type": "code",
      "metadata": {
        "id": "oTofz2KG88vy",
        "colab_type": "code",
        "colab": {
          "base_uri": "https://localhost:8080/",
          "height": 173
        },
        "outputId": "82e62368-fb84-4312-ea1d-a84e6ef5d68c"
      },
      "source": [
        "# Some of the noise features were also selected. Now let's look at the performance.\n",
        "\n",
        "X_test_l1 = select.transform(X_test)\n",
        "score = LogisticRegression().fit(X_train_l1, y_train).score(X_test_l1, y_test)\n",
        "print(\"Test Score: {:.3f}\".format(score))"
      ],
      "execution_count": 14,
      "outputs": [
        {
          "output_type": "stream",
          "text": [
            "Test Score: 0.930\n"
          ],
          "name": "stdout"
        },
        {
          "output_type": "stream",
          "text": [
            "/usr/local/lib/python3.6/dist-packages/sklearn/linear_model/_logistic.py:940: ConvergenceWarning: lbfgs failed to converge (status=1):\n",
            "STOP: TOTAL NO. of ITERATIONS REACHED LIMIT.\n",
            "\n",
            "Increase the number of iterations (max_iter) or scale the data as shown in:\n",
            "    https://scikit-learn.org/stable/modules/preprocessing.html\n",
            "Please also refer to the documentation for alternative solver options:\n",
            "    https://scikit-learn.org/stable/modules/linear_model.html#logistic-regression\n",
            "  extra_warning_msg=_LOGISTIC_SOLVER_CONVERGENCE_MSG)\n"
          ],
          "name": "stderr"
        }
      ]
    },
    {
      "cell_type": "code",
      "metadata": {
        "id": "a5I3jvLp9cXL",
        "colab_type": "code",
        "colab": {}
      },
      "source": [
        "# With some better feature selection we improoved our score from uni-variate F.S"
      ],
      "execution_count": 15,
      "outputs": []
    },
    {
      "cell_type": "markdown",
      "metadata": {
        "id": "ez3KnrAV-MZY",
        "colab_type": "text"
      },
      "source": [
        "### Iterative Feature Selection"
      ]
    },
    {
      "cell_type": "code",
      "metadata": {
        "id": "TAtS3YpW-Or7",
        "colab_type": "code",
        "colab": {}
      },
      "source": [
        "# In this type of F.S, we use a series of models with varying number of features. There are 2 basic methods: starting with no features\n",
        "# and adding features one by one until some stopping criterion is reached OR starting with all features and removing features one by one\n",
        "# until some stopping criterion is reached. \n",
        "\n",
        "# Because a series of models are built this method is much more computationally expensive than the other methods. One particular method\n",
        "# of this kind is 'recursive feature elimination (RFE)' which starts with all the features, build a model and discards the least important\n",
        "# feature, and so on until only a prespecified number of features are left\n",
        "\n",
        "# For this to work, the model used for F.S needs to provide some way to determine feature importance, as was the case for the model based\n",
        "# selection."
      ],
      "execution_count": 16,
      "outputs": []
    },
    {
      "cell_type": "code",
      "metadata": {
        "id": "0qw6Rlib_bMY",
        "colab_type": "code",
        "colab": {
          "base_uri": "https://localhost:8080/",
          "height": 90
        },
        "outputId": "59f23f05-5c85-4649-8546-e6fd8e1cbf94"
      },
      "source": [
        "# Here we will use RandomForestModel as we used earlier\n",
        "\n",
        "from sklearn.feature_selection import RFE\n",
        "\n",
        "select = RFE(RandomForestClassifier(n_estimators=100, random_state=42), n_features_to_select=40)\n",
        "select.fit(X_train, y_train)\n",
        "\n",
        "# Visualizing the selected features using Mask\n",
        "mask = select.get_support()\n",
        "plt.matshow(mask.reshape(1, -1), cmap='gray_r')\n",
        "plt.xlabel(\"Sample Index\")"
      ],
      "execution_count": 17,
      "outputs": [
        {
          "output_type": "execute_result",
          "data": {
            "text/plain": [
              "Text(0.5, 0, 'Sample Index')"
            ]
          },
          "metadata": {
            "tags": []
          },
          "execution_count": 17
        },
        {
          "output_type": "display_data",
          "data": {
            "image/png": "[encoded data removed]",
            "text/plain": [
              "<Figure size 1152x144 with 1 Axes>"
            ]
          },
          "metadata": {
            "tags": [],
            "needs_background": "light"
          }
        }
      ]
    },
    {
      "cell_type": "code",
      "metadata": {
        "id": "Fo11px4VFYG_",
        "colab_type": "code",
        "colab": {}
      },
      "source": [
        "# The F.S got better than Uni-Variate and Model-Based Selection but one feature was still missed. Running this code also takes\n",
        "# significantly longer than the other 2 models because a Random Forest is trained 40 times, once for each feature that is droped."
      ],
      "execution_count": 18,
      "outputs": []
    },
    {
      "cell_type": "code",
      "metadata": {
        "id": "zEFvxISjF3J8",
        "colab_type": "code",
        "colab": {
          "base_uri": "https://localhost:8080/",
          "height": 173
        },
        "outputId": "e4b8d470-6896-4c03-8f03-56b96dc6e68e"
      },
      "source": [
        "# Accuracy of LogisticRegression Model using RFE\n",
        "\n",
        "X_train_rfe = select.transform(X_train)\n",
        "X_test_rfe = select.transform(X_test)\n",
        "\n",
        "score = LogisticRegression(max_iter=1000).fit(X_train_rfe, y_train).score(X_test_rfe, y_test)\n",
        "print(\"Test Score: {:.3f}\".format(score))"
      ],
      "execution_count": 25,
      "outputs": [
        {
          "output_type": "stream",
          "text": [
            "Test Score: 0.951\n"
          ],
          "name": "stdout"
        },
        {
          "output_type": "stream",
          "text": [
            "/usr/local/lib/python3.6/dist-packages/sklearn/linear_model/_logistic.py:940: ConvergenceWarning: lbfgs failed to converge (status=1):\n",
            "STOP: TOTAL NO. of ITERATIONS REACHED LIMIT.\n",
            "\n",
            "Increase the number of iterations (max_iter) or scale the data as shown in:\n",
            "    https://scikit-learn.org/stable/modules/preprocessing.html\n",
            "Please also refer to the documentation for alternative solver options:\n",
            "    https://scikit-learn.org/stable/modules/linear_model.html#logistic-regression\n",
            "  extra_warning_msg=_LOGISTIC_SOLVER_CONVERGENCE_MSG)\n"
          ],
          "name": "stderr"
        }
      ]
    },
    {
      "cell_type": "code",
      "metadata": {
        "id": "L2nmXEpsGNO2",
        "colab_type": "code",
        "colab": {
          "base_uri": "https://localhost:8080/",
          "height": 34
        },
        "outputId": "e5fe95b1-ec0e-412d-c438-a37b63be638e"
      },
      "source": [
        "print(\"Test score: {:.3f}\".format(select.score(X_test, y_test)))"
      ],
      "execution_count": 24,
      "outputs": [
        {
          "output_type": "stream",
          "text": [
            "Test score: 0.951\n"
          ],
          "name": "stdout"
        }
      ]
    },
    {
      "cell_type": "code",
      "metadata": {
        "id": "ey5ZUyonGjB9",
        "colab_type": "code",
        "colab": {}
      },
      "source": [
        "# Here the performance of the RandomForest used inside the RFE is the same as that achieved by training a logistic regression model on\n",
        "# top of the selected features. In other words, once we have selected the right features, the linear model performs as well as the \n",
        "# random forest."
      ],
      "execution_count": 26,
      "outputs": []
    }
  ]
}