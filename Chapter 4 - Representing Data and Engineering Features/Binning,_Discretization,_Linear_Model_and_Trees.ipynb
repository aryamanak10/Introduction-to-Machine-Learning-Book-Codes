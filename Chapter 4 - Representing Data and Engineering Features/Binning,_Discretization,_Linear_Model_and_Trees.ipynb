{
  "nbformat": 4,
  "nbformat_minor": 0,
  "metadata": {
    "colab": {
      "name": "Binning, Discretization, Linear Model and Trees.ipynb",
      "provenance": [],
      "collapsed_sections": [],
      "authorship_tag": "ABX9TyPLn/fmfhNPq5NJKvnkSgYT"
    },
    "kernelspec": {
      "name": "python3",
      "display_name": "Python 3"
    }
  },
  "cells": [
    {
      "cell_type": "code",
      "metadata": {
        "id": "ysIDsg1BdJGQ",
        "colab_type": "code",
        "colab": {
          "base_uri": "https://localhost:8080/",
          "height": 452
        },
        "outputId": "29e2c8b1-1d04-4a14-aac5-78d4d3ff661f"
      },
      "source": [
        "!pip install mglearn"
      ],
      "execution_count": 1,
      "outputs": [
        {
          "output_type": "stream",
          "text": [
            "Collecting mglearn\n",
            "\u001b[?25l  Downloading https://files.pythonhosted.org/packages/65/38/8aced26fce0b2ae82c3c87cd3b6105f38ca6d9d51704ecc44aa54473e6b9/mglearn-0.1.9.tar.gz (540kB)\n",
            "\r\u001b[K     |▋                               | 10kB 15.4MB/s eta 0:00:01\r\u001b[K     |█▏                              | 20kB 2.3MB/s eta 0:00:01\r\u001b[K     |█▉                              | 30kB 3.0MB/s eta 0:00:01\r\u001b[K     |██▍                             | 40kB 3.2MB/s eta 0:00:01\r\u001b[K     |███                             | 51kB 2.5MB/s eta 0:00:01\r\u001b[K     |███▋                            | 61kB 2.9MB/s eta 0:00:01\r\u001b[K     |████▎                           | 71kB 3.1MB/s eta 0:00:01\r\u001b[K     |████▉                           | 81kB 3.3MB/s eta 0:00:01\r\u001b[K     |█████▌                          | 92kB 3.6MB/s eta 0:00:01\r\u001b[K     |██████                          | 102kB 3.5MB/s eta 0:00:01\r\u001b[K     |██████▊                         | 112kB 3.5MB/s eta 0:00:01\r\u001b[K     |███████▎                        | 122kB 3.5MB/s eta 0:00:01\r\u001b[K     |███████▉                        | 133kB 3.5MB/s eta 0:00:01\r\u001b[K     |████████▌                       | 143kB 3.5MB/s eta 0:00:01\r\u001b[K     |█████████                       | 153kB 3.5MB/s eta 0:00:01\r\u001b[K     |█████████▊                      | 163kB 3.5MB/s eta 0:00:01\r\u001b[K     |██████████▎                     | 174kB 3.5MB/s eta 0:00:01\r\u001b[K     |███████████                     | 184kB 3.5MB/s eta 0:00:01\r\u001b[K     |███████████▌                    | 194kB 3.5MB/s eta 0:00:01\r\u001b[K     |████████████▏                   | 204kB 3.5MB/s eta 0:00:01\r\u001b[K     |████████████▊                   | 215kB 3.5MB/s eta 0:00:01\r\u001b[K     |█████████████▍                  | 225kB 3.5MB/s eta 0:00:01\r\u001b[K     |██████████████                  | 235kB 3.5MB/s eta 0:00:01\r\u001b[K     |██████████████▋                 | 245kB 3.5MB/s eta 0:00:01\r\u001b[K     |███████████████▏                | 256kB 3.5MB/s eta 0:00:01\r\u001b[K     |███████████████▊                | 266kB 3.5MB/s eta 0:00:01\r\u001b[K     |████████████████▍               | 276kB 3.5MB/s eta 0:00:01\r\u001b[K     |█████████████████               | 286kB 3.5MB/s eta 0:00:01\r\u001b[K     |█████████████████▋              | 296kB 3.5MB/s eta 0:00:01\r\u001b[K     |██████████████████▏             | 307kB 3.5MB/s eta 0:00:01\r\u001b[K     |██████████████████▉             | 317kB 3.5MB/s eta 0:00:01\r\u001b[K     |███████████████████▍            | 327kB 3.5MB/s eta 0:00:01\r\u001b[K     |████████████████████            | 337kB 3.5MB/s eta 0:00:01\r\u001b[K     |████████████████████▋           | 348kB 3.5MB/s eta 0:00:01\r\u001b[K     |█████████████████████▎          | 358kB 3.5MB/s eta 0:00:01\r\u001b[K     |█████████████████████▉          | 368kB 3.5MB/s eta 0:00:01\r\u001b[K     |██████████████████████▌         | 378kB 3.5MB/s eta 0:00:01\r\u001b[K     |███████████████████████         | 389kB 3.5MB/s eta 0:00:01\r\u001b[K     |███████████████████████▋        | 399kB 3.5MB/s eta 0:00:01\r\u001b[K     |████████████████████████▎       | 409kB 3.5MB/s eta 0:00:01\r\u001b[K     |████████████████████████▉       | 419kB 3.5MB/s eta 0:00:01\r\u001b[K     |█████████████████████████▌      | 430kB 3.5MB/s eta 0:00:01\r\u001b[K     |██████████████████████████      | 440kB 3.5MB/s eta 0:00:01\r\u001b[K     |██████████████████████████▊     | 450kB 3.5MB/s eta 0:00:01\r\u001b[K     |███████████████████████████▎    | 460kB 3.5MB/s eta 0:00:01\r\u001b[K     |████████████████████████████    | 471kB 3.5MB/s eta 0:00:01\r\u001b[K     |████████████████████████████▌   | 481kB 3.5MB/s eta 0:00:01\r\u001b[K     |█████████████████████████████▏  | 491kB 3.5MB/s eta 0:00:01\r\u001b[K     |█████████████████████████████▊  | 501kB 3.5MB/s eta 0:00:01\r\u001b[K     |██████████████████████████████▍ | 512kB 3.5MB/s eta 0:00:01\r\u001b[K     |███████████████████████████████ | 522kB 3.5MB/s eta 0:00:01\r\u001b[K     |███████████████████████████████▌| 532kB 3.5MB/s eta 0:00:01\r\u001b[K     |████████████████████████████████| 542kB 3.5MB/s \n",
            "\u001b[?25hRequirement already satisfied: numpy in /usr/local/lib/python3.6/dist-packages (from mglearn) (1.18.5)\n",
            "Requirement already satisfied: matplotlib in /usr/local/lib/python3.6/dist-packages (from mglearn) (3.2.2)\n",
            "Requirement already satisfied: scikit-learn in /usr/local/lib/python3.6/dist-packages (from mglearn) (0.22.2.post1)\n",
            "Requirement already satisfied: pandas in /usr/local/lib/python3.6/dist-packages (from mglearn) (1.0.5)\n",
            "Requirement already satisfied: pillow in /usr/local/lib/python3.6/dist-packages (from mglearn) (7.0.0)\n",
            "Requirement already satisfied: cycler in /usr/local/lib/python3.6/dist-packages (from mglearn) (0.10.0)\n",
            "Requirement already satisfied: imageio in /usr/local/lib/python3.6/dist-packages (from mglearn) (2.4.1)\n",
            "Requirement already satisfied: joblib in /usr/local/lib/python3.6/dist-packages (from mglearn) (0.15.1)\n",
            "Requirement already satisfied: python-dateutil>=2.1 in /usr/local/lib/python3.6/dist-packages (from matplotlib->mglearn) (2.8.1)\n",
            "Requirement already satisfied: pyparsing!=2.0.4,!=2.1.2,!=2.1.6,>=2.0.1 in /usr/local/lib/python3.6/dist-packages (from matplotlib->mglearn) (2.4.7)\n",
            "Requirement already satisfied: kiwisolver>=1.0.1 in /usr/local/lib/python3.6/dist-packages (from matplotlib->mglearn) (1.2.0)\n",
            "Requirement already satisfied: scipy>=0.17.0 in /usr/local/lib/python3.6/dist-packages (from scikit-learn->mglearn) (1.4.1)\n",
            "Requirement already satisfied: pytz>=2017.2 in /usr/local/lib/python3.6/dist-packages (from pandas->mglearn) (2018.9)\n",
            "Requirement already satisfied: six in /usr/local/lib/python3.6/dist-packages (from cycler->mglearn) (1.12.0)\n",
            "Building wheels for collected packages: mglearn\n",
            "  Building wheel for mglearn (setup.py) ... \u001b[?25l\u001b[?25hdone\n",
            "  Created wheel for mglearn: filename=mglearn-0.1.9-py2.py3-none-any.whl size=582638 sha256=56ecbc8f84b225bdea5431a2c3867d49839dec5f499433fb5a7df10cee02ad2c\n",
            "  Stored in directory: /root/.cache/pip/wheels/eb/a6/ea/a6a3716233fa62fc561259b5cb1e28f79e9ff3592c0adac5f0\n",
            "Successfully built mglearn\n",
            "Installing collected packages: mglearn\n",
            "Successfully installed mglearn-0.1.9\n"
          ],
          "name": "stdout"
        }
      ]
    },
    {
      "cell_type": "code",
      "metadata": {
        "id": "ZgTo22yWaJFn",
        "colab_type": "code",
        "colab": {
          "base_uri": "https://localhost:8080/",
          "height": 296
        },
        "outputId": "564abac2-ae00-47e3-8448-c80de34f0c00"
      },
      "source": [
        "from sklearn.linear_model import LinearRegression\n",
        "from sklearn.tree import DecisionTreeRegressor\n",
        "import matplotlib.pyplot as plt\n",
        "import numpy as np\n",
        "import mglearn\n",
        "\n",
        "X, y = mglearn.datasets.make_wave(n_samples = 100)\n",
        "line = np.linspace(-3, 3, 1000, endpoint=False).reshape(-1, 1)\n",
        "\n",
        "reg = DecisionTreeRegressor(min_samples_split=3).fit(X, y)\n",
        "plt.plot(line, reg.predict(line), label=\"Decision Tree\")\n",
        "\n",
        "reg = LinearRegression().fit(X, y)\n",
        "plt.plot(line, reg.predict(line), label=\"Linear Regression\")\n",
        "\n",
        "plt.plot(X[:, 0], y, 'o', c='k')\n",
        "plt.xlabel(\"Regression Output\")\n",
        "plt.xlabel(\"Input Feature\")\n",
        "plt.legend(loc=\"best\")"
      ],
      "execution_count": 2,
      "outputs": [
        {
          "output_type": "execute_result",
          "data": {
            "text/plain": [
              "<matplotlib.legend.Legend at 0x7f741dc87f28>"
            ]
          },
          "metadata": {
            "tags": []
          },
          "execution_count": 2
        },
        {
          "output_type": "display_data",
          "data": {
            "image/png": "[encoded data removed]",
            "text/plain": [
              "<Figure size 432x288 with 1 Axes>"
            ]
          },
          "metadata": {
            "tags": [],
            "needs_background": "light"
          }
        }
      ]
    },
    {
      "cell_type": "code",
      "metadata": {
        "id": "F8_XpljCcPMS",
        "colab_type": "code",
        "colab": {
          "base_uri": "https://localhost:8080/",
          "height": 34
        },
        "outputId": "f7568143-69e7-4711-b8bc-8076e81593f4"
      },
      "source": [
        "# As you can see in the above model the Decision Tree Regression is a much powerful algorithm than Linear Regression therefore we use\n",
        "# Decision Tree Regressor. To make the Linear Regression more powerful we can make use of the process called binning (discretization)\n",
        "# which will split our input range into equally spaced intervals\n",
        "\n",
        "bins = np.linspace(-3, 3, 11)\n",
        "print(\"Bins: {}\".format(bins))"
      ],
      "execution_count": 3,
      "outputs": [
        {
          "output_type": "stream",
          "text": [
            "Bins: [-3.  -2.4 -1.8 -1.2 -0.6  0.   0.6  1.2  1.8  2.4  3. ]\n"
          ],
          "name": "stdout"
        }
      ]
    },
    {
      "cell_type": "code",
      "metadata": {
        "id": "OKhHSoHbelxe",
        "colab_type": "code",
        "colab": {
          "base_uri": "https://localhost:8080/",
          "height": 259
        },
        "outputId": "720efd59-651a-45f8-bce4-358ec417884c"
      },
      "source": [
        "# Now we will record for each data point which bin it falls into. This can be done using np.digitize function.\n",
        "\n",
        "which_bin = np.digitize(X, bins=bins)\n",
        "print(\"\\nData Points:\\n\", X[:5])\n",
        "print(\"\\nBin membership for data points:\\n\", which_bin[:5])"
      ],
      "execution_count": 4,
      "outputs": [
        {
          "output_type": "stream",
          "text": [
            "\n",
            "Data Points:\n",
            " [[-0.75275929]\n",
            " [ 2.70428584]\n",
            " [ 1.39196365]\n",
            " [ 0.59195091]\n",
            " [-2.06388816]]\n",
            "\n",
            "Bin membership for data points:\n",
            " [[ 4]\n",
            " [10]\n",
            " [ 8]\n",
            " [ 6]\n",
            " [ 2]]\n"
          ],
          "name": "stdout"
        }
      ]
    },
    {
      "cell_type": "code",
      "metadata": {
        "id": "AAOaFv0hfRia",
        "colab_type": "code",
        "colab": {
          "base_uri": "https://localhost:8080/",
          "height": 104
        },
        "outputId": "581e1fff-b944-4238-f054-c12e41e44d84"
      },
      "source": [
        "# What we did here is tranform a single continouse feature into a categorical feature, that encodes which bin a data point is in.\n",
        "\n",
        "# Now to use a scikit learn model on this data, we transform this discrete feature to a one-hot encoding using the OneHotEncoder from\n",
        "# the preprocessing module. The OneHotEncoder works on Integer Feature rather than String Feature\n",
        "\n",
        "from sklearn.preprocessing import OneHotEncoder\n",
        "\n",
        "# Transforming using OneHotEncoder\n",
        "encoder = OneHotEncoder(sparse=False)\n",
        "\n",
        "# Encoder.fit finds the unique values that appear in which_bin\n",
        "encoder.fit(which_bin)\n",
        "\n",
        "# Transform create the one-hot encoding\n",
        "X_binned = encoder.transform(which_bin)\n",
        "print(X_binned[:5])"
      ],
      "execution_count": 5,
      "outputs": [
        {
          "output_type": "stream",
          "text": [
            "[[0. 0. 0. 1. 0. 0. 0. 0. 0. 0.]\n",
            " [0. 0. 0. 0. 0. 0. 0. 0. 0. 1.]\n",
            " [0. 0. 0. 0. 0. 0. 0. 1. 0. 0.]\n",
            " [0. 0. 0. 0. 0. 1. 0. 0. 0. 0.]\n",
            " [0. 1. 0. 0. 0. 0. 0. 0. 0. 0.]]\n"
          ],
          "name": "stdout"
        }
      ]
    },
    {
      "cell_type": "code",
      "metadata": {
        "id": "2jMVGOTggUQv",
        "colab_type": "code",
        "colab": {
          "base_uri": "https://localhost:8080/",
          "height": 34
        },
        "outputId": "d44aa0b8-3dfd-404b-dcc0-39fe9a828ed7"
      },
      "source": [
        "print(\"X_binned shape: {}\".format(X_binned.shape))"
      ],
      "execution_count": 6,
      "outputs": [
        {
          "output_type": "stream",
          "text": [
            "X_binned shape: (100, 10)\n"
          ],
          "name": "stdout"
        }
      ]
    },
    {
      "cell_type": "code",
      "metadata": {
        "id": "dNJptczzgiLS",
        "colab_type": "code",
        "colab": {
          "base_uri": "https://localhost:8080/",
          "height": 296
        },
        "outputId": "bee0726b-0782-428f-8f5d-a1c8afdd7132"
      },
      "source": [
        "# Now we will build a new linear regression model and a new decision tree model on the one hot encoded data. This is visualized with \n",
        "# the help of the bin boundaries as black dotted lines\n",
        "\n",
        "line_binned = encoder.transform(np.digitize(line, bins=bins))\n",
        "\n",
        "reg = LinearRegression().fit(X_binned, y)\n",
        "plt.plot(line, reg.predict(line_binned), label=\"Linear Regression Binned\")\n",
        "\n",
        "reg = DecisionTreeRegressor(min_samples_split=3).fit(X_binned, y)\n",
        "plt.plot(line, reg.predict(line_binned), label=\"Decision Tree Binned\")\n",
        "\n",
        "\n",
        "plt.plot(X[:, 0], y, 'o', c='k')\n",
        "plt.vlines(bins, -3, 3, linewidth=1, alpha=.2)\n",
        "plt.xlabel(\"Regression Output\")\n",
        "plt.xlabel(\"Input Feature\")\n",
        "plt.legend(loc=\"best\")"
      ],
      "execution_count": 7,
      "outputs": [
        {
          "output_type": "execute_result",
          "data": {
            "text/plain": [
              "<matplotlib.legend.Legend at 0x7f741af12908>"
            ]
          },
          "metadata": {
            "tags": []
          },
          "execution_count": 7
        },
        {
          "output_type": "display_data",
          "data": {
            "image/png": "[encoded data removed]",
            "text/plain": [
              "<Figure size 432x288 with 1 Axes>"
            ]
          },
          "metadata": {
            "tags": [],
            "needs_background": "light"
          }
        }
      ]
    },
    {
      "cell_type": "markdown",
      "metadata": {
        "id": "zFcUaGaplGG4",
        "colab_type": "text"
      },
      "source": [
        "## Interactions and Polynomials"
      ]
    },
    {
      "cell_type": "code",
      "metadata": {
        "id": "NbDVGbUOlkFG",
        "colab_type": "code",
        "colab": {
          "base_uri": "https://localhost:8080/",
          "height": 34
        },
        "outputId": "95abf838-9f4f-4e3f-d65a-479b7a66ac38"
      },
      "source": [
        "X_combined = np.hstack([X, X_binned])\n",
        "print(X_combined.shape)"
      ],
      "execution_count": 8,
      "outputs": [
        {
          "output_type": "stream",
          "text": [
            "(100, 11)\n"
          ],
          "name": "stdout"
        }
      ]
    },
    {
      "cell_type": "code",
      "metadata": {
        "id": "aMFQP32ZlsSw",
        "colab_type": "code",
        "colab": {
          "base_uri": "https://localhost:8080/",
          "height": 296
        },
        "outputId": "0e31cdb9-5fba-49bd-c1bf-bd4b3cd599ae"
      },
      "source": [
        "reg = LinearRegression().fit(X_combined, y)\n",
        "\n",
        "line_combined = np.hstack([line, line_binned])\n",
        "plt.plot(line, reg.predict(line_combined), label=\"Linear Regression Combined\")\n",
        "\n",
        "for bin in bins:\n",
        "  plt.plot([bin, bin], [-3, 3,], ':', c='k')\n",
        "plt.legend(loc='best')\n",
        "plt.ylabel(\"Regression Output\")\n",
        "plt.xlabel(\"Input Feature\")\n",
        "plt.plot(X[:, 0], y, 'o', c='k')"
      ],
      "execution_count": 9,
      "outputs": [
        {
          "output_type": "execute_result",
          "data": {
            "text/plain": [
              "[<matplotlib.lines.Line2D at 0x7f741aeabf60>]"
            ]
          },
          "metadata": {
            "tags": []
          },
          "execution_count": 9
        },
        {
          "output_type": "display_data",
          "data": {
            "image/png": "[encoded data removed]",
            "text/plain": [
              "<Figure size 432x288 with 1 Axes>"
            ]
          },
          "metadata": {
            "tags": [],
            "needs_background": "light"
          }
        }
      ]
    },
    {
      "cell_type": "code",
      "metadata": {
        "id": "se4vn5B3mQi4",
        "colab_type": "code",
        "colab": {
          "base_uri": "https://localhost:8080/",
          "height": 34
        },
        "outputId": "1b096541-16e5-4b4d-f83e-8a3748b71c34"
      },
      "source": [
        "X_product = np.hstack([X_binned, X * X_binned])\n",
        "print(X_product.shape)"
      ],
      "execution_count": 10,
      "outputs": [
        {
          "output_type": "stream",
          "text": [
            "(100, 20)\n"
          ],
          "name": "stdout"
        }
      ]
    },
    {
      "cell_type": "code",
      "metadata": {
        "id": "mTBuyqFimt2V",
        "colab_type": "code",
        "colab": {
          "base_uri": "https://localhost:8080/",
          "height": 296
        },
        "outputId": "af59df48-5da3-4146-e3c7-4ddf65b90e6b"
      },
      "source": [
        "reg = LinearRegression().fit(X_product, y)\n",
        "\n",
        "line_product = np.hstack([line_binned, line * line_binned])\n",
        "plt.plot(line, reg.predict(line_product), label=\"Linear Regression Product\")\n",
        "\n",
        "for bin in bins:\n",
        "  plt.plot([bin, bin], [-3, 3,], ':', c='k')\n",
        "\n",
        "plt.legend(loc='upper left')\n",
        "plt.ylabel(\"Regression Output\")\n",
        "plt.xlabel(\"Input Feature\")\n",
        "plt.plot(X[:, 0], y, 'o', c='k')"
      ],
      "execution_count": 11,
      "outputs": [
        {
          "output_type": "execute_result",
          "data": {
            "text/plain": [
              "[<matplotlib.lines.Line2D at 0x7f741aeb7da0>]"
            ]
          },
          "metadata": {
            "tags": []
          },
          "execution_count": 11
        },
        {
          "output_type": "display_data",
          "data": {
            "image/png": "[encoded data removed]",
            "text/plain": [
              "<Figure size 432x288 with 1 Axes>"
            ]
          },
          "metadata": {
            "tags": [],
            "needs_background": "light"
          }
        }
      ]
    },
    {
      "cell_type": "code",
      "metadata": {
        "id": "qVy2ZZdVZtE3",
        "colab_type": "code",
        "colab": {}
      },
      "source": [
        "# Using binning is 1 way to expand a continous feature. Another one is to use polynomials of the original features. For a given feature\n",
        "# x, we can use x ** 2, x ** 3, x **4 and so on.\n",
        "\n",
        "from sklearn.preprocessing import PolynomialFeatures\n",
        "\n",
        "# include polynomials up to x ** 10:\n",
        "# the default \"include_bias=True\" adds a feature that is constantly 1.\n",
        "\n",
        "poly = PolynomialFeatures(degree=10, include_bias=False)\n",
        "poly.fit(X)\n",
        "X_poly = poly.transform(X)"
      ],
      "execution_count": 12,
      "outputs": []
    },
    {
      "cell_type": "code",
      "metadata": {
        "id": "yYfz6rUDadZt",
        "colab_type": "code",
        "colab": {
          "base_uri": "https://localhost:8080/",
          "height": 34
        },
        "outputId": "5e3e4549-8721-4ef9-8bcf-67b2f65da077"
      },
      "source": [
        "print(\"X_poly shape: {}\".format(X_poly.shape))"
      ],
      "execution_count": 13,
      "outputs": [
        {
          "output_type": "stream",
          "text": [
            "X_poly shape: (100, 10)\n"
          ],
          "name": "stdout"
        }
      ]
    },
    {
      "cell_type": "code",
      "metadata": {
        "id": "PbI8rliXakD5",
        "colab_type": "code",
        "colab": {
          "base_uri": "https://localhost:8080/",
          "height": 397
        },
        "outputId": "2c16bf0b-b3bc-4175-a2b2-7f5ca501ba84"
      },
      "source": [
        "# Comparing X_poly entries with X.\n",
        "\n",
        "print(\"Entries of X:\\n{}\".format(X[:5]))\n",
        "print(\"Entries of X_poly:\\n{}\".format(X_poly[:5]))"
      ],
      "execution_count": 14,
      "outputs": [
        {
          "output_type": "stream",
          "text": [
            "Entries of X:\n",
            "[[-0.75275929]\n",
            " [ 2.70428584]\n",
            " [ 1.39196365]\n",
            " [ 0.59195091]\n",
            " [-2.06388816]]\n",
            "Entries of X_poly:\n",
            "[[-7.52759287e-01  5.66646544e-01 -4.26548448e-01  3.21088306e-01\n",
            "  -2.41702204e-01  1.81943579e-01 -1.36959719e-01  1.03097700e-01\n",
            "  -7.76077513e-02  5.84199555e-02]\n",
            " [ 2.70428584e+00  7.31316190e+00  1.97768801e+01  5.34823369e+01\n",
            "   1.44631526e+02  3.91124988e+02  1.05771377e+03  2.86036036e+03\n",
            "   7.73523202e+03  2.09182784e+04]\n",
            " [ 1.39196365e+00  1.93756281e+00  2.69701700e+00  3.75414962e+00\n",
            "   5.22563982e+00  7.27390068e+00  1.01250053e+01  1.40936394e+01\n",
            "   1.96178338e+01  2.73073115e+01]\n",
            " [ 5.91950905e-01  3.50405874e-01  2.07423074e-01  1.22784277e-01\n",
            "   7.26822637e-02  4.30243318e-02  2.54682921e-02  1.50759786e-02\n",
            "   8.92423917e-03  5.28271146e-03]\n",
            " [-2.06388816e+00  4.25963433e+00 -8.79140884e+00  1.81444846e+01\n",
            "  -3.74481869e+01  7.72888694e+01 -1.59515582e+02  3.29222321e+02\n",
            "  -6.79478050e+02  1.40236670e+03]]\n"
          ],
          "name": "stdout"
        }
      ]
    },
    {
      "cell_type": "code",
      "metadata": {
        "id": "Wfu8ehJ5a2kq",
        "colab_type": "code",
        "colab": {
          "base_uri": "https://localhost:8080/",
          "height": 52
        },
        "outputId": "9f00a624-8847-411a-ad0f-33f71aafcae5"
      },
      "source": [
        "# Getting the feature names (Exponent of Features)\n",
        "\n",
        "print(\"Polynomial feature names:\\n{}\".format(poly.get_feature_names()))"
      ],
      "execution_count": 15,
      "outputs": [
        {
          "output_type": "stream",
          "text": [
            "Polynomial feature names:\n",
            "['x0', 'x0^2', 'x0^3', 'x0^4', 'x0^5', 'x0^6', 'x0^7', 'x0^8', 'x0^9', 'x0^10']\n"
          ],
          "name": "stdout"
        }
      ]
    },
    {
      "cell_type": "code",
      "metadata": {
        "id": "qIhGeIA6c0e3",
        "colab_type": "code",
        "colab": {
          "base_uri": "https://localhost:8080/",
          "height": 296
        },
        "outputId": "b5695408-29d7-4379-d949-eddda669e90d"
      },
      "source": [
        "reg = LinearRegression().fit(X_poly, y)\n",
        "\n",
        "line_poly = poly.transform(line)\n",
        "plt.plot(line, reg.predict(line_poly), label='Polynomial Linear Regression')\n",
        "plt.plot(X[:, 0], y, 'o', c='k')\n",
        "plt.ylabel(\"Regression Output\")\n",
        "plt.xlabel(\"Input Feature\")\n",
        "plt.legend(loc=\"best\")"
      ],
      "execution_count": 16,
      "outputs": [
        {
          "output_type": "execute_result",
          "data": {
            "text/plain": [
              "<matplotlib.legend.Legend at 0x7f741a892748>"
            ]
          },
          "metadata": {
            "tags": []
          },
          "execution_count": 16
        },
        {
          "output_type": "display_data",
          "data": {
            "image/png": "[encoded data removed]",
            "text/plain": [
              "<Figure size 432x288 with 1 Axes>"
            ]
          },
          "metadata": {
            "tags": [],
            "needs_background": "light"
          }
        }
      ]
    },
    {
      "cell_type": "code",
      "metadata": {
        "id": "f6Pn3pfFdXcd",
        "colab_type": "code",
        "colab": {
          "base_uri": "https://localhost:8080/",
          "height": 296
        },
        "outputId": "5c286317-94c6-407b-bae5-d9d4ed6de423"
      },
      "source": [
        "# Comparision with a Kernel SVM model on the original data, without any transformation\n",
        "\n",
        "from sklearn.svm import SVR\n",
        "\n",
        "for gamma in [1, 10]:\n",
        "  svr = SVR(gamma=gamma).fit(X,y)\n",
        "  plt.plot(line, svr.predict(line), label='SVR gamma = {}'.format(gamma))\n",
        "\n",
        "plt.plot(X[:, 0], y, 'o', c='k')\n",
        "plt.ylabel(\"Regression Output\")\n",
        "plt.xlabel(\"Input Feature\")\n",
        "plt.legend(loc=\"best\")"
      ],
      "execution_count": 17,
      "outputs": [
        {
          "output_type": "execute_result",
          "data": {
            "text/plain": [
              "<matplotlib.legend.Legend at 0x7f742fe9f198>"
            ]
          },
          "metadata": {
            "tags": []
          },
          "execution_count": 17
        },
        {
          "output_type": "display_data",
          "data": {
            "image/png": "[encoded data removed]",
            "text/plain": [
              "<Figure size 432x288 with 1 Axes>"
            ]
          },
          "metadata": {
            "tags": [],
            "needs_background": "light"
          }
        }
      ]
    },
    {
      "cell_type": "code",
      "metadata": {
        "id": "tZ_A4JeVd9v6",
        "colab_type": "code",
        "colab": {}
      },
      "source": [
        "# Kernel SVM was able to produce similar kind of results to Polynomial Features and hence we will look at interactions and polynomials \n",
        "# from thr Boston Housing Dataset.\n",
        "\n",
        "from sklearn.datasets import load_boston\n",
        "from sklearn.model_selection import train_test_split\n",
        "from sklearn.preprocessing import MinMaxScaler\n",
        "\n",
        "boston = load_boston()\n",
        "X_train, X_test, y_train, y_test = train_test_split(boston.data, boston.target, random_state=0)\n",
        "\n",
        "# Rescaling the Data\n",
        "scaler = MinMaxScaler()\n",
        "X_train_scaled = scaler.fit_transform(X_train)\n",
        "X_test_scaled = scaler.transform(X_test)"
      ],
      "execution_count": 19,
      "outputs": []
    },
    {
      "cell_type": "code",
      "metadata": {
        "id": "cbrjmhFWfD_6",
        "colab_type": "code",
        "colab": {
          "base_uri": "https://localhost:8080/",
          "height": 52
        },
        "outputId": "574b9233-67be-41d4-b748-722beaa54c33"
      },
      "source": [
        "# Now we will extract polynomial features and interactions up to a degeree of 2.\n",
        "\n",
        "poly = PolynomialFeatures(degree=2).fit(X_train_scaled)\n",
        "X_train_poly = poly.transform(X_train_scaled)\n",
        "X_test_poly = poly.transform(X_test_scaled)\n",
        "\n",
        "print(\"X_train.shape: {}\".format(X_train.shape))\n",
        "print(\"X_train_poly.shape: {}\".format(X_train_poly.shape))"
      ],
      "execution_count": 20,
      "outputs": [
        {
          "output_type": "stream",
          "text": [
            "X_train.shape: (379, 13)\n",
            "X_train_poly.shape: (379, 105)\n"
          ],
          "name": "stdout"
        }
      ]
    },
    {
      "cell_type": "code",
      "metadata": {
        "id": "yJ8Jx1q3gIf_",
        "colab_type": "code",
        "colab": {
          "base_uri": "https://localhost:8080/",
          "height": 72
        },
        "outputId": "7e250b18-9554-408a-c514-df5e125fbbf9"
      },
      "source": [
        "# Getting Feature names\n",
        "\n",
        "print(\"Polynomial feature names:\\n{}\".format(poly.get_feature_names()))"
      ],
      "execution_count": 21,
      "outputs": [
        {
          "output_type": "stream",
          "text": [
            "Polynomial feature names:\n",
            "['1', 'x0', 'x1', 'x2', 'x3', 'x4', 'x5', 'x6', 'x7', 'x8', 'x9', 'x10', 'x11', 'x12', 'x0^2', 'x0 x1', 'x0 x2', 'x0 x3', 'x0 x4', 'x0 x5', 'x0 x6', 'x0 x7', 'x0 x8', 'x0 x9', 'x0 x10', 'x0 x11', 'x0 x12', 'x1^2', 'x1 x2', 'x1 x3', 'x1 x4', 'x1 x5', 'x1 x6', 'x1 x7', 'x1 x8', 'x1 x9', 'x1 x10', 'x1 x11', 'x1 x12', 'x2^2', 'x2 x3', 'x2 x4', 'x2 x5', 'x2 x6', 'x2 x7', 'x2 x8', 'x2 x9', 'x2 x10', 'x2 x11', 'x2 x12', 'x3^2', 'x3 x4', 'x3 x5', 'x3 x6', 'x3 x7', 'x3 x8', 'x3 x9', 'x3 x10', 'x3 x11', 'x3 x12', 'x4^2', 'x4 x5', 'x4 x6', 'x4 x7', 'x4 x8', 'x4 x9', 'x4 x10', 'x4 x11', 'x4 x12', 'x5^2', 'x5 x6', 'x5 x7', 'x5 x8', 'x5 x9', 'x5 x10', 'x5 x11', 'x5 x12', 'x6^2', 'x6 x7', 'x6 x8', 'x6 x9', 'x6 x10', 'x6 x11', 'x6 x12', 'x7^2', 'x7 x8', 'x7 x9', 'x7 x10', 'x7 x11', 'x7 x12', 'x8^2', 'x8 x9', 'x8 x10', 'x8 x11', 'x8 x12', 'x9^2', 'x9 x10', 'x9 x11', 'x9 x12', 'x10^2', 'x10 x11', 'x10 x12', 'x11^2', 'x11 x12', 'x12^2']\n"
          ],
          "name": "stdout"
        }
      ]
    },
    {
      "cell_type": "code",
      "metadata": {
        "id": "4qaSHl9ChV5Q",
        "colab_type": "code",
        "colab": {
          "base_uri": "https://localhost:8080/",
          "height": 52
        },
        "outputId": "0bdacb09-117a-4518-d261-dcd1b399e765"
      },
      "source": [
        "# Performing Ridge Regression with and without Interactions and Polynomials\n",
        "\n",
        "from sklearn.linear_model import Ridge\n",
        "\n",
        "ridge = Ridge().fit(X_train_scaled,y_train)\n",
        "print(\"Score with interactions: {:.3f}\".format(ridge.score(X_test_scaled, y_test)))\n",
        "\n",
        "ridge = Ridge().fit(X_train_poly, y_train)\n",
        "print(\"Score with interactions: {:.3f}\".format(ridge.score(X_test_poly, y_test)))"
      ],
      "execution_count": 22,
      "outputs": [
        {
          "output_type": "stream",
          "text": [
            "Score with interactions: 0.621\n",
            "Score with interactions: 0.753\n"
          ],
          "name": "stdout"
        }
      ]
    },
    {
      "cell_type": "code",
      "metadata": {
        "id": "sK1NLPqIh6GI",
        "colab_type": "code",
        "colab": {
          "base_uri": "https://localhost:8080/",
          "height": 52
        },
        "outputId": "255644ca-9009-4896-dfb0-85a124902181"
      },
      "source": [
        "# Peforming Random Forest with and without and Interations and Polynomials\n",
        "\n",
        "from sklearn.ensemble import RandomForestRegressor\n",
        "\n",
        "rf = RandomForestRegressor(n_estimators=100).fit(X_train_scaled, y_train)\n",
        "print(\"Score with interactions: {:.3f}\".format(rf.score(X_test_scaled, y_test)))\n",
        "\n",
        "rf = RandomForestRegressor(n_estimators=100).fit(X_train_poly, y_train)\n",
        "print(\"Score with interactions: {:.3f}\".format(ridge.score(X_test_poly, y_test)))"
      ],
      "execution_count": 23,
      "outputs": [
        {
          "output_type": "stream",
          "text": [
            "Score with interactions: 0.796\n",
            "Score with interactions: 0.753\n"
          ],
          "name": "stdout"
        }
      ]
    }
  ]
}