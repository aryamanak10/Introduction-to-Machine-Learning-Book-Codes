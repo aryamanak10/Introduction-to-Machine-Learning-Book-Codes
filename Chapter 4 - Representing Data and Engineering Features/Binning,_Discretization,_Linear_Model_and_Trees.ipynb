{
  "nbformat": 4,
  "nbformat_minor": 0,
  "metadata": {
    "colab": {
      "name": "Binning, Discretization, Linear Model and Trees.ipynb",
      "provenance": [],
      "collapsed_sections": [],
      "authorship_tag": "ABX9TyPaLl45JtJC2+PCLgLvqfpj"
    },
    "kernelspec": {
      "name": "python3",
      "display_name": "Python 3"
    }
  },
  "cells": [
    {
      "cell_type": "code",
      "metadata": {
        "id": "ysIDsg1BdJGQ",
        "colab_type": "code",
        "colab": {
          "base_uri": "https://localhost:8080/",
          "height": 296
        },
        "outputId": "787e9d5d-9f33-4a2d-b8f8-99cb41ece553"
      },
      "source": [
        "!pip install mglearn"
      ],
      "execution_count": 1,
      "outputs": [
        {
          "output_type": "stream",
          "text": [
            "Requirement already satisfied: mglearn in /usr/local/lib/python3.6/dist-packages (0.1.9)\n",
            "Requirement already satisfied: pandas in /usr/local/lib/python3.6/dist-packages (from mglearn) (1.0.5)\n",
            "Requirement already satisfied: joblib in /usr/local/lib/python3.6/dist-packages (from mglearn) (0.15.1)\n",
            "Requirement already satisfied: numpy in /usr/local/lib/python3.6/dist-packages (from mglearn) (1.18.5)\n",
            "Requirement already satisfied: imageio in /usr/local/lib/python3.6/dist-packages (from mglearn) (2.4.1)\n",
            "Requirement already satisfied: pillow in /usr/local/lib/python3.6/dist-packages (from mglearn) (7.0.0)\n",
            "Requirement already satisfied: matplotlib in /usr/local/lib/python3.6/dist-packages (from mglearn) (3.2.2)\n",
            "Requirement already satisfied: cycler in /usr/local/lib/python3.6/dist-packages (from mglearn) (0.10.0)\n",
            "Requirement already satisfied: scikit-learn in /usr/local/lib/python3.6/dist-packages (from mglearn) (0.22.2.post1)\n",
            "Requirement already satisfied: pytz>=2017.2 in /usr/local/lib/python3.6/dist-packages (from pandas->mglearn) (2018.9)\n",
            "Requirement already satisfied: python-dateutil>=2.6.1 in /usr/local/lib/python3.6/dist-packages (from pandas->mglearn) (2.8.1)\n",
            "Requirement already satisfied: kiwisolver>=1.0.1 in /usr/local/lib/python3.6/dist-packages (from matplotlib->mglearn) (1.2.0)\n",
            "Requirement already satisfied: pyparsing!=2.0.4,!=2.1.2,!=2.1.6,>=2.0.1 in /usr/local/lib/python3.6/dist-packages (from matplotlib->mglearn) (2.4.7)\n",
            "Requirement already satisfied: six in /usr/local/lib/python3.6/dist-packages (from cycler->mglearn) (1.12.0)\n",
            "Requirement already satisfied: scipy>=0.17.0 in /usr/local/lib/python3.6/dist-packages (from scikit-learn->mglearn) (1.4.1)\n"
          ],
          "name": "stdout"
        }
      ]
    },
    {
      "cell_type": "code",
      "metadata": {
        "id": "ZgTo22yWaJFn",
        "colab_type": "code",
        "colab": {
          "base_uri": "https://localhost:8080/",
          "height": 296
        },
        "outputId": "26e2b0b5-302a-43c0-e716-5ba019e4e7d8"
      },
      "source": [
        "from sklearn.linear_model import LinearRegression\n",
        "from sklearn.tree import DecisionTreeRegressor\n",
        "import matplotlib.pyplot as plt\n",
        "import numpy as np\n",
        "import mglearn\n",
        "\n",
        "X, y = mglearn.datasets.make_wave(n_samples = 100)\n",
        "line = np.linspace(-3, 3, 1000, endpoint=False).reshape(-1, 1)\n",
        "\n",
        "reg = DecisionTreeRegressor(min_samples_split=3).fit(X, y)\n",
        "plt.plot(line, reg.predict(line), label=\"Decision Tree\")\n",
        "\n",
        "reg = LinearRegression().fit(X, y)\n",
        "plt.plot(line, reg.predict(line), label=\"Linear Regression\")\n",
        "\n",
        "plt.plot(X[:, 0], y, 'o', c='k')\n",
        "plt.xlabel(\"Regression Output\")\n",
        "plt.xlabel(\"Input Feature\")\n",
        "plt.legend(loc=\"best\")"
      ],
      "execution_count": 2,
      "outputs": [
        {
          "output_type": "execute_result",
          "data": {
            "text/plain": [
              "<matplotlib.legend.Legend at 0x7f9be9004fd0>"
            ]
          },
          "metadata": {
            "tags": []
          },
          "execution_count": 2
        },
        {
          "output_type": "display_data",
          "data": {
            "image/png": "[encoded data removed]",
            "text/plain": [
              "<Figure size 432x288 with 1 Axes>"
            ]
          },
          "metadata": {
            "tags": [],
            "needs_background": "light"
          }
        }
      ]
    },
    {
      "cell_type": "code",
      "metadata": {
        "id": "F8_XpljCcPMS",
        "colab_type": "code",
        "colab": {
          "base_uri": "https://localhost:8080/",
          "height": 34
        },
        "outputId": "4f5ce174-09f9-482d-a5a9-fdac18490a97"
      },
      "source": [
        "# As you can see in the above model the Decision Tree Regression is a much powerful algorithm than Linear Regression therefore we use\n",
        "# Decision Tree Regressor. To make the Linear Regression more powerful we can make use of the process called binning (discretization)\n",
        "# which will split our input range into equally spaced intervals\n",
        "\n",
        "bins = np.linspace(-3, 3, 11)\n",
        "print(\"Bins: {}\".format(bins))"
      ],
      "execution_count": 3,
      "outputs": [
        {
          "output_type": "stream",
          "text": [
            "Bins: [-3.  -2.4 -1.8 -1.2 -0.6  0.   0.6  1.2  1.8  2.4  3. ]\n"
          ],
          "name": "stdout"
        }
      ]
    },
    {
      "cell_type": "code",
      "metadata": {
        "id": "OKhHSoHbelxe",
        "colab_type": "code",
        "colab": {
          "base_uri": "https://localhost:8080/",
          "height": 259
        },
        "outputId": "cd4c6a4f-69d2-400f-eab7-55809f803373"
      },
      "source": [
        "# Now we will record for each data point which bin it falls into. This can be done using np.digitize function.\n",
        "\n",
        "which_bin = np.digitize(X, bins=bins)\n",
        "print(\"\\nData Points:\\n\", X[:5])\n",
        "print(\"\\nBin membership for data points:\\n\", which_bin[:5])"
      ],
      "execution_count": 4,
      "outputs": [
        {
          "output_type": "stream",
          "text": [
            "\n",
            "Data Points:\n",
            " [[-0.75275929]\n",
            " [ 2.70428584]\n",
            " [ 1.39196365]\n",
            " [ 0.59195091]\n",
            " [-2.06388816]]\n",
            "\n",
            "Bin membership for data points:\n",
            " [[ 4]\n",
            " [10]\n",
            " [ 8]\n",
            " [ 6]\n",
            " [ 2]]\n"
          ],
          "name": "stdout"
        }
      ]
    },
    {
      "cell_type": "code",
      "metadata": {
        "id": "AAOaFv0hfRia",
        "colab_type": "code",
        "colab": {
          "base_uri": "https://localhost:8080/",
          "height": 104
        },
        "outputId": "509635b1-2172-42a4-b907-790b250ab650"
      },
      "source": [
        "# What we did here is tranform a single continouse feature into a categorical feature, that encodes which bin a data point is in.\n",
        "\n",
        "# Now to use a scikit learn model on this data, we transform this discrete feature to a one-hot encoding using the OneHotEncoder from\n",
        "# the preprocessing module. The OneHotEncoder works on Integer Feature rather than String Feature\n",
        "\n",
        "from sklearn.preprocessing import OneHotEncoder\n",
        "\n",
        "# Transforming using OneHotEncoder\n",
        "encoder = OneHotEncoder(sparse=False)\n",
        "\n",
        "# Encoder.fit finds the unique values that appear in which_bin\n",
        "encoder.fit(which_bin)\n",
        "\n",
        "# Transform create the one-hot encoding\n",
        "X_binned = encoder.transform(which_bin)\n",
        "print(X_binned[:5])"
      ],
      "execution_count": 7,
      "outputs": [
        {
          "output_type": "stream",
          "text": [
            "[[0. 0. 0. 1. 0. 0. 0. 0. 0. 0.]\n",
            " [0. 0. 0. 0. 0. 0. 0. 0. 0. 1.]\n",
            " [0. 0. 0. 0. 0. 0. 0. 1. 0. 0.]\n",
            " [0. 0. 0. 0. 0. 1. 0. 0. 0. 0.]\n",
            " [0. 1. 0. 0. 0. 0. 0. 0. 0. 0.]]\n"
          ],
          "name": "stdout"
        }
      ]
    },
    {
      "cell_type": "code",
      "metadata": {
        "id": "2jMVGOTggUQv",
        "colab_type": "code",
        "colab": {
          "base_uri": "https://localhost:8080/",
          "height": 34
        },
        "outputId": "0483841b-0111-4fc0-ad66-a5cd8667bd45"
      },
      "source": [
        "print(\"X_binned shape: {}\".format(X_binned.shape))"
      ],
      "execution_count": 8,
      "outputs": [
        {
          "output_type": "stream",
          "text": [
            "X_binned shape: (100, 10)\n"
          ],
          "name": "stdout"
        }
      ]
    },
    {
      "cell_type": "code",
      "metadata": {
        "id": "dNJptczzgiLS",
        "colab_type": "code",
        "colab": {
          "base_uri": "https://localhost:8080/",
          "height": 296
        },
        "outputId": "ae74a9be-e4ad-43db-9c25-f1c8df19ec63"
      },
      "source": [
        "# Now we will build a new linear regression model and a new decision tree model on the one hot encoded data. This is visualized with \n",
        "# the help of the bin boundaries as black dotted lines\n",
        "\n",
        "line_binned = encoder.transform(np.digitize(line, bins=bins))\n",
        "\n",
        "reg = LinearRegression().fit(X_binned, y)\n",
        "plt.plot(line, reg.predict(line_binned), label=\"Linear Regression Binned\")\n",
        "\n",
        "reg = DecisionTreeRegressor(min_samples_split=3).fit(X_binned, y)\n",
        "plt.plot(line, reg.predict(line_binned), label=\"Decision Tree Binned\")\n",
        "\n",
        "\n",
        "plt.plot(X[:, 0], y, 'o', c='k')\n",
        "plt.vlines(bins, -3, 3, linewidth=1, alpha=.2)\n",
        "plt.xlabel(\"Regression Output\")\n",
        "plt.xlabel(\"Input Feature\")\n",
        "plt.legend(loc=\"best\")"
      ],
      "execution_count": 10,
      "outputs": [
        {
          "output_type": "execute_result",
          "data": {
            "text/plain": [
              "<matplotlib.legend.Legend at 0x7f9be8436cc0>"
            ]
          },
          "metadata": {
            "tags": []
          },
          "execution_count": 10
        },
        {
          "output_type": "display_data",
          "data": {
            "image/png": "[encoded data removed]",
            "text/plain": [
              "<Figure size 432x288 with 1 Axes>"
            ]
          },
          "metadata": {
            "tags": [],
            "needs_background": "light"
          }
        }
      ]
    }
  ]
}